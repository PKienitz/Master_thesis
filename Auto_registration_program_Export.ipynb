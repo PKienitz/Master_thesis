{
 "cells": [
  {
   "cell_type": "code",
   "execution_count": null,
   "metadata": {},
   "outputs": [],
   "source": [
    "#Parameters defined by the user\n",
    "\n",
    "# Determine by eye a Raman image from one set of Raman images with set position but with varying wave numbers. The image should\n",
    "# be chosen carefully to show a high signal intensity and possibly distinct outlines compared to surrounding empty space and\n",
    "# artifacts. The first picture in alphabetical order carries the number 0\n",
    "Raman_image = 14\n",
    "\n",
    "# Enter the folder path were the Raman images are stored and  add the last few letters and the  file ending\n",
    "# Example : Path_Raman_data = 'D:\\Arbeit\\Patient 22\\Slide14, cut29\\SRS\\Images\\ROI1\\HFR', 'ch02.tif'\n",
    "Path_Raman_data, Ending_Raman_data  = 'D:\\Arbeit\\Patient 22\\Slide14, cut29\\SRS\\Images\\ROI3\\HFR', 'ch02.tif'\n",
    "\n",
    "\n",
    "# Enter the folder path were the structural reference Fluorescence images are stored and add the last few letters and the\n",
    "# file ending\n",
    "# Example : Path_Fluo_data = 'D:\\Arbeit\\Patient 22\\Slide14, cut29\\Fluorescence\\Fluorescence', 'PGP_enhanced_bigger.tiff'\n",
    "Path_Fluo_data, Ending_Fluo_data = 'D:\\Arbeit\\Patient 22\\Slide14, cut29\\Fluorescence\\Fluorescence', 'all_ch_enhanced.tif'\n",
    "\n",
    "# # Enter the folder path were the alpha-synuclein Fluorescence images are stored and add the last few letters and the\n",
    "# file ending\n",
    "aSYN_Path_Fluo_data, aSYN_Ending_Fluo_data = 'D:\\Arbeit\\Patient 22\\Slide14, cut29\\Fluorescence\\Fluorescence', 'paSyn.tif'\n",
    "\n",
    "#Stepsize in pixels per step for the coarse-grain registration approach; smaller steps are more precise but computation time\n",
    "# will be much longer (Example (not real computation time): Both steps = 1 --> 60 minutes; Both steps = 10 --> 0,6 minutes)\n",
    "step_x = 10\n",
    "step_y = 10\n",
    "\n",
    "\n",
    "#Save paths and filenames for:\n",
    "\n",
    "Save_Folder = 'D:\\Arbeit\\Patient 22\\Slide14, cut29\\\\Registrierung_ROI3\\\\Registrierung_07_07_21'\n",
    "# Mismatches and their positions of the first registration\n",
    "Save_first_mismatch = Save_Folder+'\\\\first_reg_mismatch'\n",
    "Save_first_positions = Save_Folder+'\\\\first_reg_positions'\n",
    "\n",
    "#Mismatches and their positions of the second, final registration\n",
    "Save_optim_mismatch = Save_Folder+'\\\\Optim_reg_mismatch'\n",
    "Save_optim_positions = Save_Folder+'\\\\Optim_reg_positions'\n",
    "\n",
    "\n",
    "#The slice from the fluorescence image yielded by the registration\n",
    "Save_opti_slice = Save_Folder+'\\\\Opti_slice'\n",
    "\n",
    "Save_opti_slice_position = Save_Folder+'\\\\Opti_slice_position'\n"
   ]
  },
  {
   "cell_type": "code",
   "execution_count": null,
   "metadata": {},
   "outputs": [],
   "source": [
    "import pandas as pd\n",
    "import numpy as np\n",
    "import matplotlib.pyplot as plt\n",
    "import sklearn\n",
    "import scipy\n",
    "from skimage import color\n",
    "import tempfile\n",
    "import os\n",
    "from timeit import default_timer as timer\n",
    "from tempfile import TemporaryFile"
   ]
  },
  {
   "cell_type": "code",
   "execution_count": null,
   "metadata": {},
   "outputs": [],
   "source": [
    "#Function to load in picture data in the format (XxZ) and\n",
    "#reshape it to (XxY, 1) and give them out in list format.\n",
    "#Example path: '/bph/puredata1/raman/SP8 Leica/data/PD/skin/exported data/patient 15A, test slide 2/cut 1/ROI 1/HFR (2789-3011)'\n",
    "#File ending determines the channel used for picture acquisition\n",
    "#Example file ending: \"ch00.tif\"\n",
    "#Pictures are also grayscaled\n",
    "def Raw_Plus_Loader(Path, file_ending):\n",
    "    \n",
    "    path = Path\n",
    "    os.chdir(path)\n",
    "    directory = os.fsencode(path)\n",
    "    \n",
    "    sorted_dir = sorted(os.listdir(directory))\n",
    "    raw_tif_data = []\n",
    "    raw_data = []\n",
    "    for file in sorted_dir:\n",
    "        try:\n",
    "            filename = os.fsdecode(file)\n",
    "            if filename.endswith(file_ending):\n",
    "                print(\"Reading image: \" + filename)\n",
    "                raw = plt.imread(filename)\n",
    "                print(raw.shape)\n",
    "                raw_data.append(raw)\n",
    "                grayscaled_raw = color.rgb2gray(raw)\n",
    "                \n",
    "                raw_tif_data.append(grayscaled_raw)\n",
    "        except ValueError:\n",
    "            print('Not an image')\n",
    "            continue\n",
    "    \n",
    "    #Reshaping to 2D\n",
    "    Reshaped_picture_data = []\n",
    "    \n",
    "    for i in raw_tif_data:\n",
    "        reshaped_data = np.array(np.reshape(i, [-1, 1]))\n",
    "        print(reshaped_data.shape)\n",
    "        Reshaped_picture_data.append(reshaped_data)\n",
    "        \n",
    "    del raw_tif_data\n",
    "    return(Reshaped_picture_data, raw_data)\n",
    "#Script inputs a 1-D numpy array of image fluorescence information and binarizes (0 and 1)the information in it by a \n",
    "#certain threshold value. The script writes all all values below a certain fluorescence intensity to 0 and all\n",
    "#other values to 1. The certain may be set as a floating point value (Set_thresh = threshold value) or by a percentage\n",
    "#value of the highest value in the dataset (Set_perc_thresh = percentage (0 to 1). Returns the binarized data array.\n",
    "#Only one thresholding method may be used at one time\n",
    "def Fluoresc_Thresholder(Fluor, Set_thresh=None, Set_perc_thresh=None):\n",
    "    \n",
    "    if Set_thresh != None and Set_perc_thresh != None:\n",
    "        print('Not both thresholding arguments may be used at the same time, one has to be left out or manually set to None')\n",
    "    \n",
    "    elif Set_thresh != None:\n",
    "        buffer = np.where(Fluor >= Set_thresh, Fluor, Fluor*0)\n",
    "        \n",
    "    elif Set_perc_thresh != None:\n",
    "        buffer = np.where(Fluor >= (np.amax(Fluor)*Set_perc_thresh), Fluor, Fluor*0)\n",
    "        \n",
    "    binary_data = np.where(buffer == 0, buffer, 1)\n",
    "    \n",
    "    return(binary_data)\n",
    "\n",
    "#Script to cut a given in image to a specified size by removing leftmost columns or topmost row until the image and\n",
    "# the y- and y-dimensions are of the same size.\n",
    "def Cutter(Image, y_dim, x_dim):\n",
    "    Imbuffer = Image\n",
    "    if y_dim > Imbuffer.shape[0]:\n",
    "        print('Image already is smaller in y-direction than y_dim')\n",
    "    \n",
    "    elif x_dim > Imbuffer.shape[1]:\n",
    "        print('Image already is smaller in x-direction than x_dim')\n",
    "    \n",
    "    while y_dim < Imbuffer.shape[0]:\n",
    "        Imbuffer = np.delete(Imbuffer, 0, 0)\n",
    "    while x_dim < Imbuffer.shape[1]:\n",
    "        Imbuffer = np.delete(Imbuffer, 0, 1)\n",
    "    \n",
    "    return(Imbuffer)\n",
    "\n",
    "#Reshape datapoints to a picture-like format with pixels given in horizontal x-dim and vertical y-dim\n",
    "def Pict_print_viridis_selfAdj(Sample, figure_number, x_dim, y_dim):\n",
    "        \n",
    "    if Sample.shape == (y_dim*x_dim, 1):\n",
    "        \n",
    "        Pict = Sample.reshape(y_dim, x_dim)\n",
    "           \n",
    "    elif Sample.shape == (y_dim, x_dim):\n",
    "        Pict = Sample\n",
    "        \n",
    "    elif Sample.shape == (y_dim*x_dim,):\n",
    "        \n",
    "        Pict = Sample.reshape(y_dim, x_dim)\n",
    "    \n",
    "    else:\n",
    "        \n",
    "        print('Sample not in shape. Please reshape target.')\n",
    "    \n",
    "    \n",
    "    \n",
    "    plt.figure(figure_number, figsize=(20, 20))\n",
    "    plt.imshow(Pict, cmap='viridis')"
   ]
  },
  {
   "cell_type": "code",
   "execution_count": null,
   "metadata": {},
   "outputs": [],
   "source": [
    "#Feed in fluorescence image information with the dimensions (x_dim_fluo x y_dim_fluo) and a Raman reference image with the\n",
    "#dimensions 1024 x 1024. The script will iteratively compare, by moving a 1024 x 1024 window of the fluorescence information,\n",
    "# fluorescence and Raman identities and create a 1024 x 1024 difference matrix, whose elements are summed up. Later on the\n",
    "#lowest sum is considered indicating the best matching position for the Raman image on the fluorescence image.\n",
    "#Stepsize determines how many pixels the iterating process moves each time\n",
    "\n",
    "def Auto_register(Fluo_data, Raman_ref, x_dim_fluo, y_dim_fluo, stepsize_x, stepsize_y, Raman_x_dim, Raman_y_dim):\n",
    "    Comp_sums = []\n",
    "    positions = []\n",
    "    n = 0\n",
    "    \n",
    "    \n",
    "    \n",
    "    for j in range(y_dim_fluo - Raman_y_dim):\n",
    "        \n",
    "        if j == (stepsize_y*n):\n",
    "            n = n + 1\n",
    "            print('Moving downwards')\n",
    "            m = 0\n",
    "            for i in range(x_dim_fluo - Raman_x_dim):\n",
    "            \n",
    "                if i == (stepsize_x*m):\n",
    "                    m = m + 1\n",
    "                    slice_buffer = Fluo_data[(j):(Raman_y_dim+j), (i):(i+Raman_x_dim)]\n",
    "\n",
    "                    diff_matrix_sum = np.sum(np.absolute(slice_buffer - Raman_ref))\n",
    "                    Comp_sums.append(diff_matrix_sum)\n",
    "                    \n",
    "                    positions.append([i, j])\n",
    "                    \n",
    "                    \n",
    "                else:\n",
    "                    continue\n",
    "                \n",
    "            \n",
    "        \n",
    "        else:\n",
    "            continue\n",
    "            \n",
    "    return(Comp_sums, positions)"
   ]
  },
  {
   "cell_type": "code",
   "execution_count": null,
   "metadata": {},
   "outputs": [],
   "source": [
    "def Position_optimizer(Fluo_data, Raman_ref, x_dim_fluo, y_dim_fluo, Opti_pos, Raman_x_dim, Raman_y_dim):\n",
    "    \n",
    "    Comp_sums = []\n",
    "    positions = []\n",
    "\n",
    "    for a in range((Opti_pos[1] - 25), (Opti_pos[1] + 25)):\n",
    "    \n",
    "        print('Moving downwards for optimization')\n",
    "    \n",
    "        for b in range ((Opti_pos[0] - 25), (Opti_pos[0] + 25)):\n",
    "        #If-chain for positions where the optimization window would leave to boundaries of the fluorescence image\n",
    "               \n",
    "            if (a + Raman_y_dim) > y_dim_fluo:\n",
    "               \n",
    "                y_upper_lim = (y_dim_fluo - Raman_y_dim)\n",
    "                   \n",
    "            else:\n",
    "                \n",
    "                y_upper_lim = (a + Raman_y_dim)\n",
    "                \n",
    "                #print(str(y_upper_lim) + 'y_Upper limit')\n",
    "            \n",
    "            if (a) < 0:\n",
    "               \n",
    "                y_lower_lim = 0\n",
    "            \n",
    "            else:\n",
    "                \n",
    "                y_lower_lim = a\n",
    "                \n",
    "                #print(str(y_lower_lim) + 'y_Lower Limit')\n",
    "               \n",
    "            if (b + Raman_x_dim) > x_dim_fluo:\n",
    "                   \n",
    "                x_upper_lim = (x_dim_fluo - Raman_x_dim)\n",
    "                   \n",
    "            else:\n",
    "            \n",
    "                x_upper_lim = (b+Raman_x_dim)\n",
    "                \n",
    "                #print(str(x_upper_lim) + 'x_Upper_Limit')\n",
    "                \n",
    "            if (b) < 0:\n",
    "                   \n",
    "                x_lower_lim = 0\n",
    "                   \n",
    "            else:\n",
    "                   \n",
    "                x_lower_lim = b\n",
    "                \n",
    "                #print(str(x_lower_lim) + 'x_Lower_Limit')\n",
    "                   \n",
    "            \n",
    "            slice_buffer = Fluo_data[(y_lower_lim):(y_upper_lim), (x_lower_lim):(x_upper_lim)]\n",
    "            \n",
    "            #print('The shape of slice_buffer is ' + str(slice_buffer.shape))\n",
    "                   \n",
    "            diff_matrix_sum = np.sum(np.absolute(slice_buffer - Raman_ref))\n",
    "                   \n",
    "            Comp_sums.append(diff_matrix_sum)\n",
    "                    \n",
    "            positions.append([b, a])\n",
    "                   \n",
    "    return(Comp_sums, positions)\n"
   ]
  },
  {
   "cell_type": "code",
   "execution_count": null,
   "metadata": {},
   "outputs": [],
   "source": [
    "def Binarizer(Sample, Thresh):\n",
    "    \n",
    "    Fluo_binarized = []\n",
    "\n",
    "    for i in range(len(Sample)):\n",
    "\n",
    "        if Sample[i] >= Thresh:\n",
    "            buffer = 1\n",
    "            Fluo_binarized.append(buffer)\n",
    "\n",
    "        elif Sample[i] < Thresh:\n",
    "            buffer = 0\n",
    "            Fluo_binarized.append(buffer)\n",
    "    \n",
    "    return(Fluo_binarized)"
   ]
  },
  {
   "cell_type": "code",
   "execution_count": null,
   "metadata": {},
   "outputs": [],
   "source": [
    "#Loading in the fluorescence data: Flattened (Fluo) and natural (Fluo_raw)\n",
    "Fluo, Fluo_raw = Raw_Plus_Loader(Path_Fluo_data, Ending_Fluo_data)"
   ]
  },
  {
   "cell_type": "code",
   "execution_count": null,
   "metadata": {},
   "outputs": [],
   "source": [
    "#Loading in the Raman data: Flattened (Raman) and natural (Raman_raw)\n",
    "Raman, Raman_raw = Raw_Plus_Loader(Path_Raman_data, Ending_Raman_data)"
   ]
  },
  {
   "cell_type": "code",
   "execution_count": null,
   "metadata": {},
   "outputs": [],
   "source": [
    "#Define image dimensions of fluorescence and Raman images\n",
    "\n",
    "Fluo_x_dim = (Fluo_raw[0].shape)[1]\n",
    "Fluo_y_dim = (Fluo_raw[0].shape)[0]\n",
    "\n",
    "Raman_x_dim = (Raman_raw[0].shape)[1]\n",
    "Raman_y_dim = (Raman_raw[0].shape)[0]"
   ]
  },
  {
   "cell_type": "code",
   "execution_count": null,
   "metadata": {},
   "outputs": [],
   "source": [
    "Raman_y_dim"
   ]
  },
  {
   "cell_type": "code",
   "execution_count": null,
   "metadata": {},
   "outputs": [],
   "source": [
    "#Find maximum intensity of all fluorescence signals and find a threshold on a 5% niveau from that\n",
    "Fluo_max = Fluo[0][np.argmax(Fluo[0])]\n",
    "Fluo_Thresh = 0.05 * Fluo_max"
   ]
  },
  {
   "cell_type": "code",
   "execution_count": null,
   "metadata": {},
   "outputs": [],
   "source": [
    "#Binarize the flattened array of fluorescence intensities based on the threshold\n",
    "Fluo_binary = Binarizer(Fluo[0], Fluo_Thresh)\n",
    "Fluo_binary_array = np.array(Fluo_binary)"
   ]
  },
  {
   "cell_type": "code",
   "execution_count": null,
   "metadata": {},
   "outputs": [],
   "source": [
    "#Visualize the binarized fluorescence data in a histogram\n",
    "plt.figure(figsize=(12, 12))\n",
    "\n",
    "plt.hist(Fluo_binary_array, 100, linewidth=100)\n",
    "\n",
    "plt.show()"
   ]
  },
  {
   "cell_type": "code",
   "execution_count": null,
   "metadata": {},
   "outputs": [],
   "source": [
    "#Print a binarized version of the fluorescence image\n",
    "Pict_print_viridis_selfAdj(Fluo_binary_array, 1, Fluo_x_dim, Fluo_y_dim)"
   ]
  },
  {
   "cell_type": "code",
   "execution_count": null,
   "metadata": {},
   "outputs": [],
   "source": [
    "#Create a matrix of binarized fluorescence data in the dimensions of the original fluorescence image\n",
    "Fluo_binary_matrix = np.reshape(Fluo_binary_array, (Fluo_y_dim, Fluo_x_dim))"
   ]
  },
  {
   "cell_type": "code",
   "execution_count": null,
   "metadata": {},
   "outputs": [],
   "source": [
    "#Print the chosen exemplary Raman image that is used for the registration approach\n",
    "Pict_print_viridis_selfAdj(Raman[Raman_image], 2, Raman_x_dim, Raman_y_dim)"
   ]
  },
  {
   "cell_type": "code",
   "execution_count": null,
   "metadata": {},
   "outputs": [],
   "source": [
    "#Find maximum intensity of all Raman signals and find a threshold on a 5% niveau from that\n",
    "Raman_max = Raman[Raman_image][np.argmax(Raman[Raman_image])]\n",
    "Raman_Thresh = 0.05 * Raman_max"
   ]
  },
  {
   "cell_type": "code",
   "execution_count": null,
   "metadata": {},
   "outputs": [],
   "source": [
    "#Binarize the flattened array of Raman intensities based on the threshold\n",
    "Raman_binary = Binarizer(Raman[Raman_image], Raman_Thresh)\n",
    "Raman_binary_array = np.array(Raman_binary)"
   ]
  },
  {
   "cell_type": "code",
   "execution_count": null,
   "metadata": {},
   "outputs": [],
   "source": [
    "#Create a matrix of binarized Raman data in the dimensions of the original Raman image\n",
    "Raman_binary_matrix = np.reshape(Raman_binary_array, (Raman_y_dim, Raman_x_dim))"
   ]
  },
  {
   "cell_type": "code",
   "execution_count": null,
   "metadata": {},
   "outputs": [],
   "source": [
    "# Use a first registration with determined step sizes for movement along the x-/ y-axis, limiting the number of computations.\n",
    "# The output is an array of mismatches for each comparison, and for each comparison a positional value (x and y)\n",
    "start = timer()\n",
    "first_reg_mismatch, first_reg_positions = Auto_register(Fluo_binary_matrix, Raman_binary_matrix, Fluo_x_dim, Fluo_y_dim, stepsize_x=step_x, stepsize_y=step_y, Raman_x_dim=Raman_x_dim, Raman_y_dim=Raman_y_dim)\n",
    "end = timer()\n",
    "print(end - start)"
   ]
  },
  {
   "cell_type": "code",
   "execution_count": null,
   "metadata": {},
   "outputs": [],
   "source": [
    "#Determine minimal mismatch comparison for the first registration\n",
    "first_reg_mismatch = np.array(first_reg_mismatch)\n",
    "first_reg_min_mismatch = np.argmin(first_reg_mismatch)\n",
    "\n",
    "#Acquire positional information (x-pos. and y-pos.) from the positional array\n",
    "first_reg_positions = np.array(first_reg_positions)\n",
    "first_reg_min_position = first_reg_positions[first_reg_min_mismatch]"
   ]
  },
  {
   "cell_type": "code",
   "execution_count": null,
   "metadata": {},
   "outputs": [],
   "source": [
    "#Perform a fine_grain single step registration in with 25 px steps in each direction around the best performing position\n",
    "# of the coarse-grain registration\n",
    "start = timer()\n",
    "Optim_reg_mismatch, Optim_reg_positions = Position_optimizer(Fluo_binary_matrix, Raman_binary_matrix, Fluo_x_dim, Fluo_y_dim, first_reg_min_position, Raman_x_dim, Raman_y_dim)\n",
    "end = timer()\n",
    "print(end - start)"
   ]
  },
  {
   "cell_type": "code",
   "execution_count": null,
   "metadata": {},
   "outputs": [],
   "source": [
    "#Determine minimal mismatch comparison for the second registration\n",
    "Optim_reg_mismatch = np.array(Optim_reg_mismatch)\n",
    "Optim_reg_min_mismatch = np.argmin(Optim_reg_mismatch)\n",
    "\n",
    "#Acquire positional information (x-pos. and y-pos.) from the positional array\n",
    "Optim_reg_positions = np.array(Optim_reg_positions)\n",
    "Optim_reg_min_position = Optim_reg_positions[Optim_reg_min_mismatch]"
   ]
  },
  {
   "cell_type": "code",
   "execution_count": null,
   "metadata": {},
   "outputs": [],
   "source": [
    "#Generate two graphical representations:\n",
    "# One showing all coarse-tested positions on the x-axis and the corresponding mismatches on the y-axis\n",
    "\n",
    "positions_coarse = np.arange((first_reg_mismatch.shape[0]))\n",
    "positions_fine = np.arange((Optim_reg_mismatch.shape[0]))\n",
    "\n",
    "# Data for plotting\n",
    "\n",
    "plt.figure(figsize=(10, 10))\n",
    "fig, ax = plt.subplots()\n",
    "\n",
    "\n",
    "ax.plot(positions_coarse, first_reg_mismatch)\n",
    "\n",
    "ax.set(xlabel='Position', ylabel='No. of mismatches',\n",
    "       title='Mismatches on positions')\n",
    "\n",
    "\n",
    "fig.savefig(\"Coarse_mismatch_plot.png\")\n",
    "plt.show()"
   ]
  },
  {
   "cell_type": "code",
   "execution_count": null,
   "metadata": {},
   "outputs": [],
   "source": [
    "#Generate two graphical representations:\n",
    "# One showing all fine-tested positions on the x-axis and the corresponding mismatches on the y-axis\n",
    "\n",
    "positions_fine = np.arange((Optim_reg_mismatch.shape[0]))\n",
    "\n",
    "# Data for plotting\n",
    "\n",
    "plt.figure(figsize=(10, 10))\n",
    "fig, ax = plt.subplots()\n",
    "\n",
    "\n",
    "ax.plot(positions_fine, Optim_reg_mismatch)\n",
    "\n",
    "ax.set(xlabel='Position', ylabel='No. of mismatches',\n",
    "       title='Mismatches on positions')\n",
    "\n",
    "\n",
    "fig.savefig(\"Fine_mismatch_plot.png\")\n",
    "plt.show()"
   ]
  },
  {
   "cell_type": "code",
   "execution_count": null,
   "metadata": {},
   "outputs": [],
   "source": [
    "aSYN_Fluo, aSYN_Fluo_raw = Raw_Plus_Loader(aSYN_Path_Fluo_data, aSYN_Ending_Fluo_data)"
   ]
  },
  {
   "cell_type": "code",
   "execution_count": null,
   "metadata": {},
   "outputs": [],
   "source": [
    "aSYN_Fluo_resh = np.reshape(aSYN_Fluo[0], (aSYN_Fluo_raw[0].shape[0], aSYN_Fluo_raw[0].shape[1]))\n",
    "print(aSYN_Fluo_resh.shape)"
   ]
  },
  {
   "cell_type": "code",
   "execution_count": null,
   "metadata": {},
   "outputs": [],
   "source": [
    "Optim_reg_min_position"
   ]
  },
  {
   "cell_type": "code",
   "execution_count": null,
   "metadata": {},
   "outputs": [],
   "source": [
    "#Give out the best registered slice out of the fluorescence image\n",
    "\n",
    "opti_slice = aSYN_Fluo_resh[(Optim_reg_min_position[1]):(Optim_reg_min_position[1]+Raman_y_dim), (Optim_reg_min_position[0]):(Optim_reg_min_position[0]+Raman_x_dim)]"
   ]
  },
  {
   "cell_type": "code",
   "execution_count": null,
   "metadata": {},
   "outputs": [],
   "source": [
    "opti_slice.shape"
   ]
  },
  {
   "cell_type": "code",
   "execution_count": null,
   "metadata": {},
   "outputs": [],
   "source": [
    "#Print the optimal fluorescence image slice\n",
    "Pict_print_viridis_selfAdj(opti_slice, 5, Raman_x_dim, Raman_y_dim)"
   ]
  },
  {
   "cell_type": "code",
   "execution_count": null,
   "metadata": {},
   "outputs": [],
   "source": [
    "#Print the Raman image slice\n",
    "Pict_print_viridis_selfAdj(Raman_binary_matrix, 6, Raman_x_dim, Raman_y_dim)"
   ]
  },
  {
   "cell_type": "code",
   "execution_count": null,
   "metadata": {},
   "outputs": [],
   "source": [
    "np.save(Save_first_mismatch, first_reg_mismatch)\n",
    "np.save(Save_first_positions, first_reg_positions)\n",
    "\n",
    "np.save(Save_optim_mismatch, Optim_reg_mismatch)\n",
    "np.save(Save_optim_positions, Optim_reg_positions)\n",
    "\n",
    "np.save(Save_opti_slice, opti_slice)\n",
    "\n",
    "np.save(Save_opti_slice_position, Optim_reg_min_position)"
   ]
  },
  {
   "cell_type": "code",
   "execution_count": null,
   "metadata": {},
   "outputs": [],
   "source": []
  }
 ],
 "metadata": {
  "kernelspec": {
   "display_name": "Python 3",
   "language": "python",
   "name": "python3"
  },
  "language_info": {
   "codemirror_mode": {
    "name": "ipython",
    "version": 3
   },
   "file_extension": ".py",
   "mimetype": "text/x-python",
   "name": "python",
   "nbconvert_exporter": "python",
   "pygments_lexer": "ipython3",
   "version": "3.7.10"
  }
 },
 "nbformat": 4,
 "nbformat_minor": 4
}
