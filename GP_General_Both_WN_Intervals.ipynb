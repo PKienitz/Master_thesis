{
 "cells": [
  {
   "cell_type": "markdown",
   "metadata": {},
   "source": [
    "# To do list for automatic Gaussian-Process\n",
    "\n",
    "1) Uptake of the registered fluorescence slice and corresponding Raman data\n",
    "    Construct cell with all variables that have to be set by hand\n",
    "    a) All I/O - paths for files and saves\n",
    "    b) Threshold for fluorescence split\n",
    "    \n",
    "    \n",
    "2) Generalization of the GP-script to inputs from the I/O - cell\n",
    "\n",
    "3) Change x-axis of GP to wavenumbers and combine both wavenumber-intervals in one representation (HFR and FP)\n",
    "    Conversion : No. of Raman images in one set and the wave numbers they spread over are necessary\n",
    "    \n",
    "4) Split data sets into training, validation and test set\n",
    "\n",
    "5) Establish a proper method to determine whether a spectrum of points is more likely to correspond to non-fluorescence or\n",
    "   fluorescence conditions (probably pointwise distance to reference spectra)\n",
    "   \n",
    "6) Establish metrics to analyze the classification efficiency (standards (precision, accuracy, ...))\n",
    "\n",
    "7) Create meaningful graphical representations"
   ]
  },
  {
   "cell_type": "code",
   "execution_count": 1,
   "metadata": {},
   "outputs": [],
   "source": [
    "import pandas as pd\n",
    "import numpy as np\n",
    "import matplotlib.pyplot as plt\n",
    "import sklearn\n",
    "import scipy\n",
    "from skimage import color\n",
    "import tempfile\n",
    "import os\n",
    "from timeit import default_timer as timer\n",
    "from tempfile import TemporaryFile\n",
    "from sklearn.gaussian_process import GaussianProcessRegressor\n",
    "from sklearn.gaussian_process.kernels import RBF\n",
    "from sklearn.gaussian_process.kernels import WhiteKernel\n",
    "from sklearn.gaussian_process.kernels import ExpSineSquared\n",
    "import decimal\n",
    "from decimal import *\n",
    "from sklearn.gaussian_process.kernels import ConstantKernel"
   ]
  },
  {
   "cell_type": "code",
   "execution_count": 2,
   "metadata": {},
   "outputs": [],
   "source": [
    "#Parameters defined by the user\n",
    "\n",
    "\n",
    "# Enter the folder path were the Raman images are stored and  add the last few letters and the  file ending\n",
    "# Example : Path_Raman_data = 'D:\\\\Arbeit\\\\Patient 22\\\\Slide14, cut29\\\\SRS\\\\Images\\\\ROI1\\\\HFR', 'ch02.tif'\n",
    "HFR_Path_Raman_data, HFR_Ending_Raman_data  = 'D:\\Arbeit\\Patient 22\\Slide14, cut29\\SRS\\Images\\ROI1\\HFR', 'ch02.tif'\n",
    "\n",
    "FP_Path_Raman_data, FP_Ending_Raman_data  = 'D:\\Arbeit\\Patient 22\\Slide14, cut29\\SRS\\Images\\ROI1\\FP', 'ch02.tif'\n",
    "\n",
    "# Enter the folder path were the registered fluorescence image information is stored and add the file name\n",
    "# Example : Path_Fluo_reg = 'D:\\\\Arbeit\\\\Patient 22\\\\Slide14, cut29\\\\Opti_slice.npy'\n",
    "Path_Fluo_reg = 'D:\\Arbeit\\Patient 22\\Slide14, cut29\\Opti_slice.npy'\n",
    "\n",
    "# # Enter the folder path were the alpha-synuclein Fluorescence images are stored and add the last few letters and the\n",
    "# file ending\n",
    "aSYN_Path_Fluo_data, aSYN_Ending_Fluo_data = 'D:\\Arbeit\\Patient 22\\Slide14, cut29\\Fluorescence\\Fluorescence', 'paSyn.tif'\n",
    "\n",
    "# Determine the percentual (0-1) threshold applied on the fluorescence maximum intensity to split the fluorescence data in\n",
    "# fluorescent and virtually non-fluorescent data points\n",
    "Fluo_thresh_perc = 0.5\n",
    "\n",
    "\n",
    "#Save paths and filenames for:\n",
    "\n",
    "Save_Folder = 'D:\\Arbeit\\Patient 22\\Slide14, cut29\\ '\n",
    "# aaabbb\n",
    "Save_a = Save_Folder+'a'\n",
    "Save_b = Save_Folder+'b'\n",
    "\n",
    "#cccddd\n",
    "Save_c = Save_Folder+'c'\n",
    "Save_d = Save_Folder+'d'\n",
    "\n",
    "\n",
    "#eeefff\n",
    "Save_e = Save_Folder+'e'\n",
    "\n",
    "Save_f = Save_Folder+'f'\n",
    "\n",
    "\n",
    "#Definition of kernels for the Gaussian process\n",
    "#Define the Gauss process for regression and its Kernel (important parameter to adjust is length_scale and the scaling factor\n",
    "# S_1 (default=1))\n",
    "S_1 = 1\n",
    "#Radial-basis-function kernel\n",
    "kernel_dem = S_1*RBF(length_scale=(1), length_scale_bounds=(0.1, 10))\n",
    "kernel_1 = S_1* RBF(length_scale=(1), length_scale_bounds=(0.000001, 1000000))\n",
    "kernel_2 = S_1* RBF(length_scale=(100), length_scale_bounds=(100, 1000))\n",
    "kernel_3 = S_1* ExpSineSquared(length_scale=100, periodicity=1.0, length_scale_bounds=(0.01, 100), periodicity_bounds=(1.0, 100))\n",
    "\n",
    "#Set kernel to the active kernel used for the iteration of the following Gaussian process\n",
    "kernel = kernel_1\n",
    "\n",
    "#No. of restarts for the Gaussian process\n",
    "\n",
    "restarts = 100"
   ]
  },
  {
   "cell_type": "code",
   "execution_count": 3,
   "metadata": {},
   "outputs": [],
   "source": [
    "#Create a correctly spaced x-axis for GP presentation based on the used wavenumbers\n",
    "\n",
    "#Only FP-region \n",
    "\n",
    "FP_max = 1598.8\n",
    "FP_min = 1780.0\n",
    "\n",
    "FP_diff = FP_min - FP_max\n",
    "#Number of tested WN in FP-region\n",
    "FP_WN = 36\n",
    "FP_step = FP_diff/FP_WN\n",
    "\n",
    "FP_x_axis = np.linspace(FP_min, FP_max, num=FP_WN)\n",
    "\n",
    "#Create a correctly spaced x-axis for GP presentation based on the used wavenumbers\n",
    "\n",
    "#Only HFR-region \n",
    "\n",
    "HFR_max = 2796.6\n",
    "HFR_min = 3050.0\n",
    "\n",
    "HFR_diff = HFR_min - HFR_max\n",
    "#Number of tested WN in HFR-region\n",
    "HFR_WN = 33\n",
    "HFR_step = HFR_diff/HFR_WN\n",
    "\n",
    "HFR_x_axis = np.linspace(HFR_min, HFR_max, num=HFR_WN)\n",
    "\n",
    "\n",
    "#Both axes combined\n",
    "\n",
    "Comb_x_axis = np.append(HFR_x_axis, FP_x_axis)"
   ]
  },
  {
   "cell_type": "code",
   "execution_count": null,
   "metadata": {},
   "outputs": [],
   "source": []
  },
  {
   "cell_type": "code",
   "execution_count": 4,
   "metadata": {},
   "outputs": [],
   "source": [
    "#Function to load in picture data in the format (XxZ) and\n",
    "#reshape it to (XxY, 1) and give them out in list format.\n",
    "#Example path: '/bph/puredata1/raman/SP8 Leica/data/PD/skin/exported data/patient 15A, test slide 2/cut 1/ROI 1/HFR (2789-3011)'\n",
    "#File ending determines the channel used for picture acquisition\n",
    "#Example file ending: \"ch00.tif\"\n",
    "#Pictures are also grayscaled\n",
    "def Raw_Plus_Loader(Path, file_ending):\n",
    "    \n",
    "    path = Path\n",
    "    os.chdir(path)\n",
    "    directory = os.fsencode(path)\n",
    "    \n",
    "    sorted_dir = sorted(os.listdir(directory))\n",
    "    raw_tif_data = []\n",
    "    raw_data = []\n",
    "    for file in sorted_dir:\n",
    "        try:\n",
    "            filename = os.fsdecode(file)\n",
    "            if filename.endswith(file_ending):\n",
    "                print(\"Reading image: \" + filename)\n",
    "                raw = plt.imread(filename)\n",
    "                print(raw.shape)\n",
    "                raw_data.append(raw)\n",
    "                grayscaled_raw = color.rgb2gray(raw)\n",
    "                \n",
    "                raw_tif_data.append(grayscaled_raw)\n",
    "        except ValueError:\n",
    "            print('Not an image')\n",
    "            continue\n",
    "    \n",
    "    #Reshaping to 2D\n",
    "    Reshaped_picture_data = []\n",
    "    \n",
    "    for i in raw_tif_data:\n",
    "        reshaped_data = np.array(np.reshape(i, [-1, 1]))\n",
    "        print(reshaped_data.shape)\n",
    "        Reshaped_picture_data.append(reshaped_data)\n",
    "        \n",
    "    del raw_tif_data\n",
    "    return(Reshaped_picture_data, raw_data)\n",
    "#Script inputs a 1-D numpy array of image fluorescence information and binarizes (0 and 1)the information in it by a \n",
    "#certain threshold value. The script writes all all values below a certain fluorescence intensity to 0 and all\n",
    "#other values to 1. The certain may be set as a floating point value (Set_thresh = threshold value) or by a percentage\n",
    "#value of the highest value in the dataset (Set_perc_thresh = percentage (0 to 1). Returns the binarized data array.\n",
    "#Only one thresholding method may be used at one time\n",
    "def Fluoresc_Thresholder(Fluor, Set_thresh=None, Set_perc_thresh=None):\n",
    "    \n",
    "    if Set_thresh != None and Set_perc_thresh != None:\n",
    "        print('Not both thresholding arguments may be used at the same time, one has to be left out or manually set to None')\n",
    "    \n",
    "    elif Set_thresh != None:\n",
    "        buffer = np.where(Fluor >= Set_thresh, Fluor, Fluor*0)\n",
    "        \n",
    "    elif Set_perc_thresh != None:\n",
    "        buffer = np.where(Fluor >= (np.amax(Fluor)*Set_perc_thresh), Fluor, Fluor*0)\n",
    "        \n",
    "    binary_data = np.where(buffer == 0, buffer, 1)\n",
    "    \n",
    "    return(binary_data)\n",
    "\n",
    "#Script to cut a given in image to a specified size by removing leftmost columns or topmost row until the image and\n",
    "# the y- and y-dimensions are of the same size.\n",
    "def Cutter(Image, y_dim, x_dim):\n",
    "    Imbuffer = Image\n",
    "    if y_dim > Imbuffer.shape[0]:\n",
    "        print('Image already is smaller in y-direction than y_dim')\n",
    "    \n",
    "    elif x_dim > Imbuffer.shape[1]:\n",
    "        print('Image already is smaller in x-direction than x_dim')\n",
    "    \n",
    "    while y_dim < Imbuffer.shape[0]:\n",
    "        Imbuffer = np.delete(Imbuffer, 0, 0)\n",
    "    while x_dim < Imbuffer.shape[1]:\n",
    "        Imbuffer = np.delete(Imbuffer, 0, 1)\n",
    "    \n",
    "    return(Imbuffer)\n",
    "\n",
    "#Reshape datapoints to a picture-like format with pixels given in horizontal x-dim and vertical y-dim\n",
    "def Pict_print_viridis_selfAdj(Sample, figure_number, x_dim, y_dim):\n",
    "        \n",
    "    if Sample.shape == (y_dim*x_dim, 1):\n",
    "        \n",
    "        Pict = Sample.reshape(y_dim, x_dim)\n",
    "           \n",
    "    elif Sample.shape == (y_dim, x_dim):\n",
    "        Pict = Sample\n",
    "        \n",
    "    elif Sample.shape == (y_dim*x_dim,):\n",
    "        \n",
    "        Pict = Sample.reshape(y_dim, x_dim)\n",
    "    \n",
    "    else:\n",
    "        \n",
    "        print('Sample not in shape. Please reshape target.')\n",
    "    \n",
    "    \n",
    "    \n",
    "    plt.figure(figure_number, figsize=(20, 20))\n",
    "    plt.imshow(Pict, cmap='viridis')"
   ]
  },
  {
   "cell_type": "code",
   "execution_count": 5,
   "metadata": {},
   "outputs": [],
   "source": [
    "def Fluo_thresholder(Fluo_ser, Fluo_thresh):\n",
    "    #Create two datasets (non-fluorescent and fluorescent based on threshold)\n",
    "    Fluo_over_thresh = Fluo_ser[Fluo_ser>Fluo_thresh]\n",
    "    Fluo_under_thresh = Fluo_ser[Fluo_ser<=Fluo_thresh]\n",
    "    Fluo_over_thresh_ind = Fluo_over_thresh.index\n",
    "    Fluo_under_thresh_ind = Fluo_under_thresh.index\n",
    "    \n",
    "    return(Fluo_over_thresh, Fluo_under_thresh, Fluo_over_thresh_ind, Fluo_under_thresh_ind)"
   ]
  },
  {
   "cell_type": "code",
   "execution_count": 6,
   "metadata": {},
   "outputs": [],
   "source": [
    "#Function to feed in groups of Raman images, with each group associated to one WN and stored in a Pandas series.\n",
    "#Based on indices from fluorescence data, Raman data is selected\n",
    "def Raman_selector(Ram_ser, Fluo_ind, Non_Fluo_ind):\n",
    "\n",
    "\n",
    "    R_Fluo_list = []\n",
    "    R_Non_Fluo_list = []\n",
    "    \n",
    "    for i in range(len(Ram_ser)):\n",
    "        R_Fluo = Ram_ser[i].get(Fluo_ind)\n",
    "        R_Non_Fluo = Ram_ser[i].get(Non_Fluo_ind)\n",
    "        \n",
    "        \n",
    "        #append values for one wave number to a list of all WN\n",
    "        R_Fluo_list.append(R_Fluo)\n",
    "        R_Non_Fluo_list.append(R_Non_Fluo)\n",
    "        \n",
    "        \n",
    "    return(R_Fluo_list, R_Non_Fluo_list)"
   ]
  },
  {
   "cell_type": "code",
   "execution_count": 7,
   "metadata": {},
   "outputs": [],
   "source": [
    "# Routine to process input fluorescence and Raman data. Fluorescence data is thresholded by a set percentage value\n",
    "# of the maximum intensity to determine between virtually non-fluorescent and fluorescent data. Data is converted to a\n",
    "# Pandas series and indexed. These indices are taken to create corresponding data sets with the Raman data.\n",
    "# Resulting data sets are sampled from to create training, validation and test data sets (60:20:20).\n",
    "# Output consists of 9 different variables containing various Raman data:\n",
    "# 1) Fluorescent training data\n",
    "# 2) Non_fluorescent training data\n",
    "# 3) Fluorescent validation data\n",
    "# 4) Non-fluorescent validation data\n",
    "# 5) Fluorescent test data\n",
    "# 6) Non_fluorescent test data\n",
    "# 7) Training data\n",
    "# 8) Validation data\n",
    "# 9) Test data\n",
    "\n",
    "\n",
    "def GP_processor(Fluo_slice, Fluo_thresh_perc, Raman_input, a_syn_whole):\n",
    "    \n",
    "    # Linearize data from the registered fluorescence image slice\n",
    "\n",
    "    Fluo_slice_lin = np.reshape(Fluo_slice, (-1,))\n",
    "    print('Shape of Fluo_slice: ' + str(Fluo_slice.shape))\n",
    "    print('Shape of linear Fluo_slice: ' + str(Fluo_slice_lin.shape))\n",
    "    \n",
    "    #Convert to Pandas series\n",
    "    Fluo_ser = pd.Series(Fluo_slice_lin)\n",
    "    \n",
    "    #Sample 3 times for training, validation and test (60:20:20)\n",
    "    \n",
    "    F_train, F_validate, F_test = \\\n",
    "        np.split(Fluo_ser.sample(frac=1, random_state=42), [int(0.6*len(Fluo_ser)), int(0.8*len(Fluo_ser))])\n",
    "    \n",
    "    #Extract indices from the datasets\n",
    "    F_train_ind = F_train.index\n",
    "    F_validate_ind = F_validate.index\n",
    "    F_test_ind = F_test.index\n",
    "\n",
    "    \n",
    "    #Convert Raman input data to a numpy array\n",
    "    ram_dat_arr = np.array(Raman_input)\n",
    "    \n",
    "    #Convert Raman data to a Pandas series\n",
    "    Ram_ser = []\n",
    "    for i in range(ram_dat_arr.shape[0]):\n",
    "        ser_buffer = pd.Series(np.reshape(ram_dat_arr[i], (-1, )))\n",
    "        Ram_ser.append(ser_buffer)\n",
    "        \n",
    "    #Create training, validation and test data set for the Raman data based on the indices from the fluorescence groups\n",
    "    R_train_list = []\n",
    "    R_validate_list = []\n",
    "    R_test_list = []\n",
    "    for i in range(len(Ram_ser)):\n",
    "        R_train = Ram_ser[i].get(F_train_ind)\n",
    "        R_validate = Ram_ser[i].get(F_validate_ind)\n",
    "        R_test = Ram_ser[i].get(F_test_ind)\n",
    "        \n",
    "        #append values for one wave number to a list of all WN\n",
    "        R_train_list.append(R_train)\n",
    "        R_validate_list.append(R_validate)\n",
    "        R_test_list.append(R_test)\n",
    "    \n",
    "    #Determine max. fluo. value, set threshold for fluo.\n",
    "    Fluo_max = np.amax(a_syn_whole)\n",
    "    Fluo_thresh = Fluo_max*Fluo_thresh_perc\n",
    "    print('Fluorescence threshold is at ' + str(Fluo_thresh_perc*100) + '% and is at value ' + str(Fluo_thresh))\n",
    "    \n",
    "    #Get data and corresponding indices for Fluo. value above or below the set threshold\n",
    "    F_train_Fluo, F_train_Non, F_train_Fluo_ind, F_train_Non_ind = Fluo_thresholder(F_train, Fluo_thresh)\n",
    "    \n",
    "    F_validate_Fluo, F_validate_Non, F_validate_Fluo_ind, F_validate_Non_ind = Fluo_thresholder(F_validate, Fluo_thresh)\n",
    "    \n",
    "    F_test_Fluo, F_test_Non, F_test_Fluo_ind, F_test_Non_ind = Fluo_thresholder(F_test, Fluo_thresh)\n",
    "    \n",
    "\n",
    "    #Get corresponding Raman data\n",
    "    \n",
    "    R_train_Fluo, R_train_Non_Fluo = Raman_selector(Ram_ser, F_train_Fluo_ind, F_train_Non_ind)\n",
    "    R_validate_Fluo, R_validate_Non_Fluo = Raman_selector(Ram_ser, F_validate_Fluo_ind, F_validate_Non_ind)\n",
    "    R_test_Fluo, R_test_Non_Fluo = Raman_selector(Ram_ser, F_test_Fluo_ind, F_test_Non_ind)\n",
    "    \n",
    "    \n",
    "    return(R_train_Fluo, R_train_Non_Fluo, R_validate_Fluo, R_validate_Non_Fluo, R_test_Fluo, R_test_Non_Fluo, R_train_list, R_validate_list, R_test_list)\n",
    "    \n",
    "    \n",
    "    \n",
    "    \n",
    "    \n",
    "    \n",
    "    \n"
   ]
  },
  {
   "cell_type": "code",
   "execution_count": 8,
   "metadata": {},
   "outputs": [],
   "source": [
    "#Function to calculate statistical necessities for the GP modelling\n",
    "#This includes calculation of mean, SD, an the quotient between SD and mean that is helpful to add an error value\n",
    "#to the following modelling process\n",
    "\n",
    "def GP_calculator(Raman_input):\n",
    "    #Mean calculation\n",
    "    means = []\n",
    "    \n",
    "    for i in range(len(Raman_input)):\n",
    "        mean_buffer = np.mean(Raman_input[i])\n",
    "        \n",
    "        means.append(mean_buffer)\n",
    "        \n",
    "    means_array = np.array(means)\n",
    "    \n",
    "    #SD calculation\n",
    "    SD = []\n",
    "    \n",
    "    for j in range(len(Raman_input)):\n",
    "        SD_buffer = np.std(Raman_input[j])\n",
    "        \n",
    "        SD.append(SD_buffer)\n",
    "        \n",
    "    SD_array = np.array(SD)\n",
    "    \n",
    "    SD_mean_quot = []\n",
    "    \n",
    "    for k in range(len(Raman_input)):\n",
    "        quot_buffer = SD_array[k]/means_array[k]\n",
    "        \n",
    "        SD_mean_quot.append(quot_buffer)\n",
    "        \n",
    "    quot_array = np.array(SD_mean_quot)\n",
    "    \n",
    "    return(means_array, SD_array, quot_array)\n",
    "    \n",
    "        "
   ]
  },
  {
   "cell_type": "code",
   "execution_count": 9,
   "metadata": {},
   "outputs": [],
   "source": [
    "def GP_Fitter(kernel, restarts, quot, WN_x_axis, means):\n",
    "    \n",
    "    #Definition of the Gaussian process\n",
    "    #Contains alpha, that adds a set of values to the diagonal of the covariance matrix to simulate noise,\n",
    "    #experimentally alpha is the quotient between a mean and its corresponding SD it is simply added to the diagonal variance\n",
    "    #entries of the covariance matrix that normally are just 1 (1 + 1 * quotient)\n",
    "    #is set to normalize_y=True so that the GP uses a fed in mean for calculations instead of a standard mean = 0\n",
    "    #uses a set of predefined kernels and uses an optimizer to enhance the kernel parameters S_1 and length_scale\n",
    "\n",
    "    gp_init = GaussianProcessRegressor(kernel=kernel, n_restarts_optimizer=restarts, alpha=(quot), normalize_y=True)\n",
    "\n",
    "\n",
    "    #Fitting the initialized GP to actual data corresponding to a fitting x_Axis defined by the wavenumbers tested for the\n",
    "    #dataset of means\n",
    "\n",
    "    gp_fit = gp_init.fit(np.reshape(WN_x_axis, (-1, 1)), means)\n",
    "    \n",
    "    return(gp_fit)\n",
    "\n",
    "    \n",
    "\n"
   ]
  },
  {
   "cell_type": "code",
   "execution_count": 10,
   "metadata": {},
   "outputs": [],
   "source": [
    "random_int = np.reshape(((np.random.rand(1, 69))/3.5), (1, 69))"
   ]
  },
  {
   "cell_type": "code",
   "execution_count": 11,
   "metadata": {},
   "outputs": [
    {
     "data": {
      "text/plain": [
       "(69,)"
      ]
     },
     "execution_count": 11,
     "metadata": {},
     "output_type": "execute_result"
    }
   ],
   "source": [
    "random_int[0].shape"
   ]
  },
  {
   "cell_type": "code",
   "execution_count": 12,
   "metadata": {},
   "outputs": [],
   "source": [
    "def GP_predict(WN_x_axis, gp_fit, means, plot=True):\n",
    "    \n",
    "    #Prediction of values from the GP and sampling from curves to create a model of our data\n",
    "    #Printing a graphical presentation of the Gaussian process model with x-axis as wavenumbers and y-axis as Raman\n",
    "    #intensity. The black curve is the mean of all samples from the Gaussian process and enveloped by a grey tubular\n",
    "    #representation of one standard deviation. A scatterplot shows the mean values the GP was modeled after\n",
    "\n",
    "    X = WN_x_axis #Interval of numbers to perform the process over\n",
    "    X_resh = np.reshape(X, (X.shape[0], 1))\n",
    "    y_mean, y_std = gp_fit.predict(X_resh, return_std=True) #Prediction using the GP with  training\n",
    "    y_samples = gp_fit.sample_y(X_resh, 15) #Sample 15 curves ()\n",
    "    \n",
    "    if plot == True:\n",
    "        #Plotting the data\n",
    "        \n",
    "        fig, (ax1, ax2) = plt.subplots(1, 2, figsize=(16, 6), sharex=False)\n",
    "        fig.subplots_adjust(wspace=0.2)\n",
    "        fig.suptitle('Raman intensities on each wavenumber')\n",
    "        \n",
    "        \n",
    "        #ax1.figure(figsize=(6,6))\n",
    "        #ax2.figure(figsize=(6,6)) \n",
    "        \n",
    "        ax1.plot(X, y_mean, 'k', lw=3, zorder=9)\n",
    "        ax1.scatter(WN_x_axis, means, c='r', s=50, zorder=10, edgecolors=(0, 0 ,0))\n",
    "        ax1.fill_between(X, y_mean-y_std, y_mean+y_std, alpha=0.2, color='k')\n",
    "        ax1.set_title('High-frequency-region')\n",
    "        \n",
    "        ax2.plot(X, y_mean, 'k', lw=3, zorder=9)\n",
    "        ax2.scatter(WN_x_axis, means, c='r', s=50, zorder=10, edgecolors=(0, 0 ,0))\n",
    "        ax2.fill_between(X, y_mean-y_std, y_mean+y_std, alpha=0.2, color='k')\n",
    "        ax2.set_title('Fingerprint-region')\n",
    "        \n",
    "        ax1.set(xlabel='Wavenumber (WN)', ylabel='Intensity')\n",
    "        ax2.set(xlabel='Wavenumber (WN)', ylabel='Intensity')\n",
    "              \n",
    "        ax1.set_xlim(3050, 2796.6)\n",
    "        ax1.set_ylim(0, 0.4)\n",
    "        ax2.set_xlim(1780, 1598.8)\n",
    "        ax2.set_ylim(0, 0.4)               \n",
    "        \n",
    "        return(y_mean)\n",
    "    else:\n",
    "        return(y_mean)"
   ]
  },
  {
   "cell_type": "code",
   "execution_count": 13,
   "metadata": {},
   "outputs": [],
   "source": [
    "#Classifier to predict fluorescence or non-fluorescence for single pixels in the Raman images; only feed in a list with\n",
    "# all WN (HFR first) combined, where each WN carries all pixel values of the corresponding set (training, validation,\n",
    "# test)\n",
    "def GP_classifier(data, pred_zero, pred_fluo, ref_zero, ref_fluo):\n",
    "    \n",
    "    p_zero = np.array(pred_zero)\n",
    "    p_fluo = np.array(pred_fluo)\n",
    "    \n",
    "    TN = 0\n",
    "    FN = 0\n",
    "    TP = 0\n",
    "    FP = 0\n",
    "    \n",
    "    #convert data format from 33 WN with each holding one datapoint per point one the image,\n",
    "    #to every single datapoint holding its wave numbers\n",
    "    c_data = []\n",
    "\n",
    "    for i in range(len(data[0])):\n",
    "\n",
    "        data_buffer = []\n",
    "        for j in range(len(data)):\n",
    "            buffer = data[j].iloc[i]\n",
    "            data_buffer.append(buffer)\n",
    "        c_data.append(data_buffer)\n",
    "    \n",
    "    \n",
    "    \n",
    "    \n",
    "    for i in range(len(c_data)):\n",
    "        \n",
    "        switch = 2\n",
    "    \n",
    "        dist_zero = np.sum(np.abs(c_data[i] - p_zero))\n",
    "        dist_fluo = np.sum(np.abs(c_data[i] - p_fluo))\n",
    "        \n",
    "        if dist_zero > dist_fluo:\n",
    "            switch = 1\n",
    "        \n",
    "        elif dist_zero < dist_fluo:\n",
    "            switch = 0\n",
    "            \n",
    "        else:\n",
    "            print('Switch could not be set')\n",
    "            \n",
    "        ref_switch = 2\n",
    "        if data[0].index[i] in ref_fluo[0]:\n",
    "            \n",
    "            ref_switch = 1\n",
    "            \n",
    "        elif data[0].index[i] in ref_zero[0]:\n",
    "            \n",
    "            ref_switch = 0\n",
    "        \n",
    "        else:\n",
    "            print('ref_Switch could not be set')\n",
    "            \n",
    "        if switch == 0 and ref_switch == 0:\n",
    "            \n",
    "            TN = TN+1\n",
    "            \n",
    "            print('TN = '+str(TN))\n",
    "            \n",
    "        elif switch == 0 and ref_switch == 1:\n",
    "            \n",
    "            FN = FN+1\n",
    "            \n",
    "            print('FN = '+str(FN))\n",
    "            \n",
    "        elif switch == 1 and ref_switch == 1:\n",
    "            \n",
    "            TP = TP+1\n",
    "            \n",
    "            print('TP = '+str(TP))\n",
    "            \n",
    "        elif switch == 1 and ref_switch == 0:\n",
    "            \n",
    "            FP = FP+1\n",
    "            \n",
    "            print('FP = '+str(FP))\n",
    "            \n",
    "        else:\n",
    "            print('Classification could not be processed.')\n",
    "            \n",
    "            \n",
    "    return(TP, FP, TN, FN)"
   ]
  },
  {
   "cell_type": "code",
   "execution_count": 14,
   "metadata": {
    "scrolled": true
   },
   "outputs": [],
   "source": [
    "Fluo_slice = np.load('D:\\\\Arbeit\\\\Patient 22\\\\Slide14, cut29\\\\ Opti_slice.npy')"
   ]
  },
  {
   "cell_type": "code",
   "execution_count": 15,
   "metadata": {},
   "outputs": [
    {
     "name": "stdout",
     "output_type": "stream",
     "text": [
      "Reading image: Fluo_paSyn.tif\n"
     ]
    },
    {
     "name": "stderr",
     "output_type": "stream",
     "text": [
      "C:\\Users\\Philip\\anaconda3\\envs\\ACT_Ker\\lib\\site-packages\\PIL\\Image.py:2858: DecompressionBombWarning: Image size (89488860 pixels) exceeds limit of 89478485 pixels, could be decompression bomb DOS attack.\n",
      "  DecompressionBombWarning,\n"
     ]
    },
    {
     "name": "stdout",
     "output_type": "stream",
     "text": [
      "(13110, 6826, 3)\n",
      "(89488860, 1)\n"
     ]
    }
   ],
   "source": [
    "#Load in the whole fluorescence image of the a-synuclein channel\n",
    "aSYN_Fluo, aSYN_Fluo_raw = Raw_Plus_Loader(aSYN_Path_Fluo_data, aSYN_Ending_Fluo_data)"
   ]
  },
  {
   "cell_type": "code",
   "execution_count": 16,
   "metadata": {},
   "outputs": [],
   "source": [
    "a_syn_array = np.reshape(np.array(aSYN_Fluo), (-1))"
   ]
  },
  {
   "cell_type": "code",
   "execution_count": 17,
   "metadata": {
    "scrolled": true
   },
   "outputs": [
    {
     "name": "stdout",
     "output_type": "stream",
     "text": [
      "Reading image: Slide14_cut(right)_SRS_ROI1_HFR280121_LA00_ch02.tif\n",
      "(1024, 1024, 3)\n",
      "Reading image: Slide14_cut(right)_SRS_ROI1_HFR280121_LA01_ch02.tif\n",
      "(1024, 1024, 3)\n",
      "Reading image: Slide14_cut(right)_SRS_ROI1_HFR280121_LA02_ch02.tif\n",
      "(1024, 1024, 3)\n",
      "Reading image: Slide14_cut(right)_SRS_ROI1_HFR280121_LA03_ch02.tif\n",
      "(1024, 1024, 3)\n",
      "Reading image: Slide14_cut(right)_SRS_ROI1_HFR280121_LA04_ch02.tif\n",
      "(1024, 1024, 3)\n",
      "Reading image: Slide14_cut(right)_SRS_ROI1_HFR280121_LA05_ch02.tif\n",
      "(1024, 1024, 3)\n",
      "Reading image: Slide14_cut(right)_SRS_ROI1_HFR280121_LA06_ch02.tif\n",
      "(1024, 1024, 3)\n",
      "Reading image: Slide14_cut(right)_SRS_ROI1_HFR280121_LA07_ch02.tif\n",
      "(1024, 1024, 3)\n",
      "Reading image: Slide14_cut(right)_SRS_ROI1_HFR280121_LA08_ch02.tif\n",
      "(1024, 1024, 3)\n",
      "Reading image: Slide14_cut(right)_SRS_ROI1_HFR280121_LA09_ch02.tif\n",
      "(1024, 1024, 3)\n",
      "Reading image: Slide14_cut(right)_SRS_ROI1_HFR280121_LA10_ch02.tif\n",
      "(1024, 1024, 3)\n",
      "Reading image: Slide14_cut(right)_SRS_ROI1_HFR280121_LA11_ch02.tif\n",
      "(1024, 1024, 3)\n",
      "Reading image: Slide14_cut(right)_SRS_ROI1_HFR280121_LA12_ch02.tif\n",
      "(1024, 1024, 3)\n",
      "Reading image: Slide14_cut(right)_SRS_ROI1_HFR280121_LA13_ch02.tif\n",
      "(1024, 1024, 3)\n",
      "Reading image: Slide14_cut(right)_SRS_ROI1_HFR280121_LA14_ch02.tif\n",
      "(1024, 1024, 3)\n",
      "Reading image: Slide14_cut(right)_SRS_ROI1_HFR280121_LA15_ch02.tif\n",
      "(1024, 1024, 3)\n",
      "Reading image: Slide14_cut(right)_SRS_ROI1_HFR280121_LA16_ch02.tif\n",
      "(1024, 1024, 3)\n",
      "Reading image: Slide14_cut(right)_SRS_ROI1_HFR280121_LA17_ch02.tif\n",
      "(1024, 1024, 3)\n",
      "Reading image: Slide14_cut(right)_SRS_ROI1_HFR280121_LA18_ch02.tif\n",
      "(1024, 1024, 3)\n",
      "Reading image: Slide14_cut(right)_SRS_ROI1_HFR280121_LA19_ch02.tif\n",
      "(1024, 1024, 3)\n",
      "Reading image: Slide14_cut(right)_SRS_ROI1_HFR280121_LA20_ch02.tif\n",
      "(1024, 1024, 3)\n",
      "Reading image: Slide14_cut(right)_SRS_ROI1_HFR280121_LA21_ch02.tif\n",
      "(1024, 1024, 3)\n",
      "Reading image: Slide14_cut(right)_SRS_ROI1_HFR280121_LA22_ch02.tif\n",
      "(1024, 1024, 3)\n",
      "Reading image: Slide14_cut(right)_SRS_ROI1_HFR280121_LA23_ch02.tif\n",
      "(1024, 1024, 3)\n",
      "Reading image: Slide14_cut(right)_SRS_ROI1_HFR280121_LA24_ch02.tif\n",
      "(1024, 1024, 3)\n",
      "Reading image: Slide14_cut(right)_SRS_ROI1_HFR280121_LA25_ch02.tif\n",
      "(1024, 1024, 3)\n",
      "Reading image: Slide14_cut(right)_SRS_ROI1_HFR280121_LA26_ch02.tif\n",
      "(1024, 1024, 3)\n",
      "Reading image: Slide14_cut(right)_SRS_ROI1_HFR280121_LA27_ch02.tif\n",
      "(1024, 1024, 3)\n",
      "Reading image: Slide14_cut(right)_SRS_ROI1_HFR280121_LA28_ch02.tif\n",
      "(1024, 1024, 3)\n",
      "Reading image: Slide14_cut(right)_SRS_ROI1_HFR280121_LA29_ch02.tif\n",
      "(1024, 1024, 3)\n",
      "Reading image: Slide14_cut(right)_SRS_ROI1_HFR280121_LA30_ch02.tif\n",
      "(1024, 1024, 3)\n",
      "Reading image: Slide14_cut(right)_SRS_ROI1_HFR280121_LA31_ch02.tif\n",
      "(1024, 1024, 3)\n",
      "Reading image: Slide14_cut(right)_SRS_ROI1_HFR280121_LA32_ch02.tif\n",
      "(1024, 1024, 3)\n",
      "(1048576, 1)\n",
      "(1048576, 1)\n",
      "(1048576, 1)\n",
      "(1048576, 1)\n",
      "(1048576, 1)\n",
      "(1048576, 1)\n",
      "(1048576, 1)\n",
      "(1048576, 1)\n",
      "(1048576, 1)\n",
      "(1048576, 1)\n",
      "(1048576, 1)\n",
      "(1048576, 1)\n",
      "(1048576, 1)\n",
      "(1048576, 1)\n",
      "(1048576, 1)\n",
      "(1048576, 1)\n",
      "(1048576, 1)\n",
      "(1048576, 1)\n",
      "(1048576, 1)\n",
      "(1048576, 1)\n",
      "(1048576, 1)\n",
      "(1048576, 1)\n",
      "(1048576, 1)\n",
      "(1048576, 1)\n",
      "(1048576, 1)\n",
      "(1048576, 1)\n",
      "(1048576, 1)\n",
      "(1048576, 1)\n",
      "(1048576, 1)\n",
      "(1048576, 1)\n",
      "(1048576, 1)\n",
      "(1048576, 1)\n",
      "(1048576, 1)\n"
     ]
    }
   ],
   "source": [
    "#Load in all the HFR_Raman image data that are corresponding to the registered fluorescence slice\n",
    "HFR_ram_dat, HFR_ram_raw = Raw_Plus_Loader(HFR_Path_Raman_data, HFR_Ending_Raman_data)"
   ]
  },
  {
   "cell_type": "code",
   "execution_count": 18,
   "metadata": {},
   "outputs": [
    {
     "name": "stdout",
     "output_type": "stream",
     "text": [
      "Reading image: Slide14_cut(right)_SRS_ROI1_FP280121_LA00_ch02.tif\n",
      "(1024, 1024, 3)\n",
      "Reading image: Slide14_cut(right)_SRS_ROI1_FP280121_LA01_ch02.tif\n",
      "(1024, 1024, 3)\n",
      "Reading image: Slide14_cut(right)_SRS_ROI1_FP280121_LA02_ch02.tif\n",
      "(1024, 1024, 3)\n",
      "Reading image: Slide14_cut(right)_SRS_ROI1_FP280121_LA03_ch02.tif\n",
      "(1024, 1024, 3)\n",
      "Reading image: Slide14_cut(right)_SRS_ROI1_FP280121_LA04_ch02.tif\n",
      "(1024, 1024, 3)\n",
      "Reading image: Slide14_cut(right)_SRS_ROI1_FP280121_LA05_ch02.tif\n",
      "(1024, 1024, 3)\n",
      "Reading image: Slide14_cut(right)_SRS_ROI1_FP280121_LA06_ch02.tif\n",
      "(1024, 1024, 3)\n",
      "Reading image: Slide14_cut(right)_SRS_ROI1_FP280121_LA07_ch02.tif\n",
      "(1024, 1024, 3)\n",
      "Reading image: Slide14_cut(right)_SRS_ROI1_FP280121_LA08_ch02.tif\n",
      "(1024, 1024, 3)\n",
      "Reading image: Slide14_cut(right)_SRS_ROI1_FP280121_LA09_ch02.tif\n",
      "(1024, 1024, 3)\n",
      "Reading image: Slide14_cut(right)_SRS_ROI1_FP280121_LA10_ch02.tif\n",
      "(1024, 1024, 3)\n",
      "Reading image: Slide14_cut(right)_SRS_ROI1_FP280121_LA11_ch02.tif\n",
      "(1024, 1024, 3)\n",
      "Reading image: Slide14_cut(right)_SRS_ROI1_FP280121_LA12_ch02.tif\n",
      "(1024, 1024, 3)\n",
      "Reading image: Slide14_cut(right)_SRS_ROI1_FP280121_LA13_ch02.tif\n",
      "(1024, 1024, 3)\n",
      "Reading image: Slide14_cut(right)_SRS_ROI1_FP280121_LA14_ch02.tif\n",
      "(1024, 1024, 3)\n",
      "Reading image: Slide14_cut(right)_SRS_ROI1_FP280121_LA15_ch02.tif\n",
      "(1024, 1024, 3)\n",
      "Reading image: Slide14_cut(right)_SRS_ROI1_FP280121_LA16_ch02.tif\n",
      "(1024, 1024, 3)\n",
      "Reading image: Slide14_cut(right)_SRS_ROI1_FP280121_LA17_ch02.tif\n",
      "(1024, 1024, 3)\n",
      "Reading image: Slide14_cut(right)_SRS_ROI1_FP280121_LA18_ch02.tif\n",
      "(1024, 1024, 3)\n",
      "Reading image: Slide14_cut(right)_SRS_ROI1_FP280121_LA19_ch02.tif\n",
      "(1024, 1024, 3)\n",
      "Reading image: Slide14_cut(right)_SRS_ROI1_FP280121_LA20_ch02.tif\n",
      "(1024, 1024, 3)\n",
      "Reading image: Slide14_cut(right)_SRS_ROI1_FP280121_LA21_ch02.tif\n",
      "(1024, 1024, 3)\n",
      "Reading image: Slide14_cut(right)_SRS_ROI1_FP280121_LA22_ch02.tif\n",
      "(1024, 1024, 3)\n",
      "Reading image: Slide14_cut(right)_SRS_ROI1_FP280121_LA23_ch02.tif\n",
      "(1024, 1024, 3)\n",
      "Reading image: Slide14_cut(right)_SRS_ROI1_FP280121_LA24_ch02.tif\n",
      "(1024, 1024, 3)\n",
      "Reading image: Slide14_cut(right)_SRS_ROI1_FP280121_LA25_ch02.tif\n",
      "(1024, 1024, 3)\n",
      "Reading image: Slide14_cut(right)_SRS_ROI1_FP280121_LA26_ch02.tif\n",
      "(1024, 1024, 3)\n",
      "Reading image: Slide14_cut(right)_SRS_ROI1_FP280121_LA27_ch02.tif\n",
      "(1024, 1024, 3)\n",
      "Reading image: Slide14_cut(right)_SRS_ROI1_FP280121_LA28_ch02.tif\n",
      "(1024, 1024, 3)\n",
      "Reading image: Slide14_cut(right)_SRS_ROI1_FP280121_LA29_ch02.tif\n",
      "(1024, 1024, 3)\n",
      "Reading image: Slide14_cut(right)_SRS_ROI1_FP280121_LA30_ch02.tif\n",
      "(1024, 1024, 3)\n",
      "Reading image: Slide14_cut(right)_SRS_ROI1_FP280121_LA31_ch02.tif\n",
      "(1024, 1024, 3)\n",
      "Reading image: Slide14_cut(right)_SRS_ROI1_FP280121_LA32_ch02.tif\n",
      "(1024, 1024, 3)\n",
      "Reading image: Slide14_cut(right)_SRS_ROI1_FP280121_LA33_ch02.tif\n",
      "(1024, 1024, 3)\n",
      "Reading image: Slide14_cut(right)_SRS_ROI1_FP280121_LA34_ch02.tif\n",
      "(1024, 1024, 3)\n",
      "Reading image: Slide14_cut(right)_SRS_ROI1_FP280121_LA35_ch02.tif\n",
      "(1024, 1024, 3)\n",
      "(1048576, 1)\n",
      "(1048576, 1)\n",
      "(1048576, 1)\n",
      "(1048576, 1)\n",
      "(1048576, 1)\n",
      "(1048576, 1)\n",
      "(1048576, 1)\n",
      "(1048576, 1)\n",
      "(1048576, 1)\n",
      "(1048576, 1)\n",
      "(1048576, 1)\n",
      "(1048576, 1)\n",
      "(1048576, 1)\n",
      "(1048576, 1)\n",
      "(1048576, 1)\n",
      "(1048576, 1)\n",
      "(1048576, 1)\n",
      "(1048576, 1)\n",
      "(1048576, 1)\n",
      "(1048576, 1)\n",
      "(1048576, 1)\n",
      "(1048576, 1)\n",
      "(1048576, 1)\n",
      "(1048576, 1)\n",
      "(1048576, 1)\n",
      "(1048576, 1)\n",
      "(1048576, 1)\n",
      "(1048576, 1)\n",
      "(1048576, 1)\n",
      "(1048576, 1)\n",
      "(1048576, 1)\n",
      "(1048576, 1)\n",
      "(1048576, 1)\n",
      "(1048576, 1)\n",
      "(1048576, 1)\n",
      "(1048576, 1)\n"
     ]
    }
   ],
   "source": [
    "#Load in all the FP_Raman image data that are corresponding to the registered fluorescence slice\n",
    "FP_ram_dat, FP_ram_raw = Raw_Plus_Loader(FP_Path_Raman_data, FP_Ending_Raman_data)"
   ]
  },
  {
   "cell_type": "code",
   "execution_count": 19,
   "metadata": {},
   "outputs": [
    {
     "name": "stdout",
     "output_type": "stream",
     "text": [
      "Shape of Fluo_slice: (1024, 1024)\n",
      "Shape of linear Fluo_slice: (1048576,)\n",
      "Fluorescence threshold is at 50.0% and is at value 0.03605\n"
     ]
    }
   ],
   "source": [
    "#Process HFR data\n",
    "HFR_R_train_Fluo, HFR_R_train_Non_Fluo, HFR_R_validate_Fluo, HFR_R_validate_Non_Fluo, HFR_R_test_Fluo, HFR_R_test_Non_Fluo, HFR_R_train, HFR_R_validate,HFR_R_test = GP_processor(Fluo_slice, Fluo_thresh_perc, HFR_ram_dat, a_syn_array)"
   ]
  },
  {
   "cell_type": "code",
   "execution_count": 20,
   "metadata": {},
   "outputs": [
    {
     "name": "stdout",
     "output_type": "stream",
     "text": [
      "Shape of Fluo_slice: (1024, 1024)\n",
      "Shape of linear Fluo_slice: (1048576,)\n",
      "Fluorescence threshold is at 50.0% and is at value 0.03605\n"
     ]
    }
   ],
   "source": [
    "#Process FP data\n",
    "FP_R_train_Fluo, FP_R_train_Non_Fluo, FP_R_validate_Fluo, FP_R_validate_Non_Fluo, FP_R_test_Fluo, FP_R_test_Non_Fluo, FP_R_train, FP_R_validate, FP_R_test = GP_processor(Fluo_slice, Fluo_thresh_perc, FP_ram_dat, a_syn_array)"
   ]
  },
  {
   "cell_type": "code",
   "execution_count": 21,
   "metadata": {},
   "outputs": [],
   "source": [
    "#Process HFR data in all three groups\n",
    "HFR_R_t_F_mean, HFR_R_t_F_SD, HFR_R_t_F_quot = GP_calculator(HFR_R_train_Fluo)\n",
    "HFR_R_t_N_mean, HFR_R_t_N_SD, HFR_R_t_N_quot = GP_calculator(HFR_R_train_Non_Fluo)\n",
    "HFR_R_v_F_mean, HFR_R_v_F_SD, HFR_R_v_F_quot = GP_calculator(HFR_R_validate_Fluo)\n",
    "HFR_R_v_N_mean, HFR_R_v_N_SD, HFR_R_v_N_quot = GP_calculator(HFR_R_validate_Non_Fluo)\n",
    "HFR_R_te_F_mean, HFR_R_te_F_SD, HFR_R_te_F_quot = GP_calculator(HFR_R_test_Fluo)\n",
    "HFR_R_te_N_mean, HFR_R_te_N_SD, HFR_R_te_N_quot = GP_calculator(HFR_R_test_Non_Fluo)"
   ]
  },
  {
   "cell_type": "code",
   "execution_count": 22,
   "metadata": {},
   "outputs": [],
   "source": [
    "#Process FP data in all three groups\n",
    "FP_R_t_F_mean, FP_R_t_F_SD, FP_R_t_F_quot = GP_calculator(FP_R_train_Fluo)\n",
    "FP_R_t_N_mean, FP_R_t_N_SD, FP_R_t_N_quot = GP_calculator(FP_R_train_Non_Fluo)\n",
    "FP_R_v_F_mean, FP_R_v_F_SD, FP_R_v_F_quot = GP_calculator(FP_R_validate_Fluo)\n",
    "FP_R_v_N_mean, FP_R_v_N_SD, FP_R_v_N_quot = GP_calculator(FP_R_validate_Non_Fluo)\n",
    "FP_R_te_F_mean, FP_R_te_F_SD, FP_R_te_F_quot = GP_calculator(FP_R_test_Fluo)\n",
    "FP_R_te_N_mean, FP_R_te_N_SD, FP_R_te_N_quot = GP_calculator(FP_R_test_Non_Fluo)"
   ]
  },
  {
   "cell_type": "code",
   "execution_count": null,
   "metadata": {},
   "outputs": [],
   "source": []
  },
  {
   "cell_type": "code",
   "execution_count": 23,
   "metadata": {},
   "outputs": [
    {
     "data": {
      "text/plain": [
       "(24597,)"
      ]
     },
     "execution_count": 23,
     "metadata": {},
     "output_type": "execute_result"
    }
   ],
   "source": [
    "FP_R_train_Fluo[0].shape"
   ]
  },
  {
   "cell_type": "code",
   "execution_count": 24,
   "metadata": {},
   "outputs": [
    {
     "data": {
      "text/plain": [
       "(604548,)"
      ]
     },
     "execution_count": 24,
     "metadata": {},
     "output_type": "execute_result"
    }
   ],
   "source": [
    "FP_R_train_Non_Fluo[0].shape"
   ]
  },
  {
   "cell_type": "code",
   "execution_count": null,
   "metadata": {},
   "outputs": [],
   "source": []
  },
  {
   "cell_type": "code",
   "execution_count": null,
   "metadata": {},
   "outputs": [],
   "source": []
  },
  {
   "cell_type": "code",
   "execution_count": 25,
   "metadata": {},
   "outputs": [],
   "source": [
    "F_t_fit = GP_Fitter(kernel, restarts, np.append(HFR_R_t_F_SD, FP_R_t_F_SD) , Comb_x_axis, np.append(HFR_R_t_F_mean, FP_R_t_F_mean))"
   ]
  },
  {
   "cell_type": "code",
   "execution_count": 26,
   "metadata": {},
   "outputs": [],
   "source": [
    "N_t_fit = GP_Fitter(kernel, restarts, np.append(HFR_R_t_N_SD, FP_R_t_N_SD) , Comb_x_axis, np.append(HFR_R_t_N_mean, FP_R_t_N_mean))"
   ]
  },
  {
   "cell_type": "code",
   "execution_count": 27,
   "metadata": {},
   "outputs": [
    {
     "data": {
      "text/plain": [
       "array([2.52861078, 2.60001855, 2.67971955, 2.70398007, 2.50848399,\n",
       "       2.32914928, 2.06466966, 1.88322232, 1.71987339, 1.55583619,\n",
       "       1.43363093, 1.33961182, 1.24050573, 1.22248789, 1.25528762,\n",
       "       1.33097019, 1.47775161, 1.52164959, 1.60658045, 1.61410237,\n",
       "       1.62996325, 1.71806667, 1.85182757, 2.04760918, 2.1686856 ,\n",
       "       2.40333515, 2.3078336 , 2.15237617, 2.11283247, 2.03177775,\n",
       "       2.11880212, 2.04470761, 2.02944254])"
      ]
     },
     "execution_count": 27,
     "metadata": {},
     "output_type": "execute_result"
    }
   ],
   "source": [
    "HFR_R_t_N_quot"
   ]
  },
  {
   "cell_type": "code",
   "execution_count": 28,
   "metadata": {},
   "outputs": [
    {
     "data": {
      "text/plain": [
       "array([2.07310567, 2.13009731, 2.19881859, 2.24958944, 2.12037518,\n",
       "       1.8771956 , 1.42589432, 1.0780025 , 0.80112347, 0.6803102 ,\n",
       "       0.62052446, 0.5807349 , 0.56968949, 0.59130304, 0.60463644,\n",
       "       0.615286  , 0.62713547, 0.64258218, 0.68152026, 0.70760634,\n",
       "       0.71536097, 0.75972211, 0.92562117, 1.23439289, 1.5634979 ,\n",
       "       1.94939832, 1.80468739, 1.58571515, 1.47119366, 1.47395721,\n",
       "       1.45426378, 1.43272113, 1.44575434])"
      ]
     },
     "execution_count": 28,
     "metadata": {},
     "output_type": "execute_result"
    }
   ],
   "source": [
    "HFR_R_t_F_quot"
   ]
  },
  {
   "cell_type": "code",
   "execution_count": 29,
   "metadata": {},
   "outputs": [
    {
     "data": {
      "image/png": "[encoded data removed]",
      "text/plain": [
       "<Figure size 1152x432 with 2 Axes>"
      ]
     },
     "metadata": {
      "needs_background": "light"
     },
     "output_type": "display_data"
    }
   ],
   "source": [
    "F_t_predict = GP_predict(Comb_x_axis, F_t_fit, np.append(HFR_R_t_F_mean, FP_R_t_F_mean))"
   ]
  },
  {
   "cell_type": "code",
   "execution_count": 30,
   "metadata": {},
   "outputs": [
    {
     "data": {
      "image/png": "[encoded data removed]",
      "text/plain": [
       "<Figure size 1152x432 with 2 Axes>"
      ]
     },
     "metadata": {
      "needs_background": "light"
     },
     "output_type": "display_data"
    }
   ],
   "source": [
    "N_t_predict = GP_predict(Comb_x_axis, N_t_fit, np.append(HFR_R_t_N_mean, FP_R_t_N_mean))"
   ]
  },
  {
   "cell_type": "code",
   "execution_count": 31,
   "metadata": {},
   "outputs": [
    {
     "data": {
      "text/plain": [
       "(69,)"
      ]
     },
     "execution_count": 31,
     "metadata": {},
     "output_type": "execute_result"
    }
   ],
   "source": [
    "N_t_predict.shape"
   ]
  },
  {
   "cell_type": "code",
   "execution_count": null,
   "metadata": {},
   "outputs": [],
   "source": []
  },
  {
   "cell_type": "code",
   "execution_count": null,
   "metadata": {},
   "outputs": [],
   "source": [
    "Comb_HFR_FP_R_train = HFR_R_train + FP_R_train"
   ]
  },
  {
   "cell_type": "code",
   "execution_count": null,
   "metadata": {},
   "outputs": [],
   "source": [
    "TP, FP, TN, FN = GP_classifier(Comb_HFR_FP_R_train, N_t_predict, F_t_predict, HFR_R_train_Non_Fluo, HFR_R_train_Fluo)"
   ]
  },
  {
   "cell_type": "code",
   "execution_count": null,
   "metadata": {},
   "outputs": [],
   "source": [
    "#TP, FP, TN, FN = GP_classifier(R_train, N_t_pred, F_t_pred, R_train_Non_Fluo, R_train_Fluo)"
   ]
  },
  {
   "cell_type": "code",
   "execution_count": null,
   "metadata": {},
   "outputs": [],
   "source": [
    "TP"
   ]
  },
  {
   "cell_type": "code",
   "execution_count": null,
   "metadata": {},
   "outputs": [],
   "source": [
    "FP"
   ]
  },
  {
   "cell_type": "code",
   "execution_count": null,
   "metadata": {},
   "outputs": [],
   "source": [
    "TN"
   ]
  },
  {
   "cell_type": "code",
   "execution_count": null,
   "metadata": {},
   "outputs": [],
   "source": [
    "FN"
   ]
  },
  {
   "cell_type": "code",
   "execution_count": null,
   "metadata": {},
   "outputs": [],
   "source": [
    "Accuracy = ((TP+TN)/(TP+TN+FP+FN))\n",
    "print(Accuracy)"
   ]
  },
  {
   "cell_type": "code",
   "execution_count": null,
   "metadata": {},
   "outputs": [],
   "source": [
    "#Sensitivity or Recall; rate of TP on all positives\n",
    "Recall = ((TP)/(TP+FN))\n",
    "print(Recall)"
   ]
  },
  {
   "cell_type": "code",
   "execution_count": null,
   "metadata": {},
   "outputs": [],
   "source": [
    "Misclass = ((FP+FN)/(TP+TN+FP+FN))\n",
    "print(Misclass)"
   ]
  },
  {
   "cell_type": "code",
   "execution_count": null,
   "metadata": {},
   "outputs": [],
   "source": [
    "#Percentage of correct TP predictions\n",
    "Precision = ((TP)/(TP+FP))\n",
    "print(Precision)"
   ]
  },
  {
   "cell_type": "code",
   "execution_count": null,
   "metadata": {},
   "outputs": [],
   "source": [
    "F1_score = 2*((Precision*Recall)/(Precision+Recall))\n",
    "print(F1_score)"
   ]
  },
  {
   "cell_type": "code",
   "execution_count": null,
   "metadata": {},
   "outputs": [],
   "source": [
    "Accuracy = ((TP+TN)/(TP+TN+FP+FN))\n",
    "print(Accuracy)\n",
    "#Sensitivity or Recall; rate of TP on all positives\n",
    "Recall = ((TP)/(TP+FN))\n",
    "print(Recall)\n",
    "Misclass = ((FP+FN)/(TP+TN+FP+FN))\n",
    "print(Misclass)\n",
    "#Percentage of correct TP predictions\n",
    "Precision = ((TP)/(TP+FP))\n",
    "print(Precision)\n",
    "#F1 score\n",
    "F1_score = 2*((Precision*Recall)/(Precision+Recall))\n",
    "print(F1_score)"
   ]
  }
 ],
 "metadata": {
  "kernelspec": {
   "display_name": "Python 3",
   "language": "python",
   "name": "python3"
  },
  "language_info": {
   "codemirror_mode": {
    "name": "ipython",
    "version": 3
   },
   "file_extension": ".py",
   "mimetype": "text/x-python",
   "name": "python",
   "nbconvert_exporter": "python",
   "pygments_lexer": "ipython3",
   "version": "3.9.6"
  }
 },
 "nbformat": 4,
 "nbformat_minor": 4
}
