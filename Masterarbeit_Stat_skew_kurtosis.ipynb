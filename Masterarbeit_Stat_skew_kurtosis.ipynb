{
 "cells": [
  {
   "cell_type": "code",
   "execution_count": 1,
   "id": "d4143a8a",
   "metadata": {},
   "outputs": [],
   "source": [
    "import pandas as pd\n",
    "import numpy as np\n",
    "import matplotlib.pyplot as plt\n",
    "import sklearn\n",
    "import scipy\n",
    "import tempfile\n",
    "import os\n",
    "from timeit import default_timer as timer\n",
    "from tempfile import TemporaryFile\n",
    "import decimal\n",
    "from decimal import *\n",
    "from numpy import loadtxt\n",
    "import pickle\n"
   ]
  },
  {
   "cell_type": "code",
   "execution_count": 2,
   "id": "35e1afe3",
   "metadata": {},
   "outputs": [],
   "source": [
    "#Reading exported datasets for representative statist. analysis"
   ]
  },
  {
   "cell_type": "code",
   "execution_count": 3,
   "id": "9cefcbfd",
   "metadata": {},
   "outputs": [],
   "source": [
    "P22_path = 'D://Arbeit//GP_Metriken_und_Daten//Stats_resultate//P22_stats.npy'\n",
    "P22_sm_path = 'D://Arbeit//GP_Metriken_und_Daten//Stats_resultate//P22_stats_SMALL.npy'\n",
    "\n",
    "P17_path = 'D://Arbeit//GP_Metriken_und_Daten//Stats_resultate//P17_stats.npy'\n",
    "P17_sm_path = 'D://Arbeit//GP_Metriken_und_Daten//Stats_resultate//P17_stats_SMALL.npy'\n",
    "\n",
    "P19_path = 'D://Arbeit//GP_Metriken_und_Daten//Stats_resultate//P19_stats.npy'\n",
    "P19_sm_path = 'D://Arbeit//GP_Metriken_und_Daten//Stats_resultate//P19_stats_SMALL.npy'\n",
    "\n",
    "P109_path = 'D://Arbeit//GP_Metriken_und_Daten//Stats_resultate//P109_stats.npy'\n",
    "P109_sm_path = 'D://Arbeit//GP_Metriken_und_Daten//Stats_resultate//P109_stats_SMALL.npy'"
   ]
  },
  {
   "cell_type": "code",
   "execution_count": 4,
   "id": "cba60d4f",
   "metadata": {},
   "outputs": [],
   "source": [
    "P22_stat = np.load(P22_path)\n",
    "P22_stat_sm = np.load(P22_sm_path)\n",
    "\n",
    "P17_stat = np.load(P17_path)\n",
    "P17_stat_sm = np.load(P17_sm_path)\n",
    "\n",
    "P19_stat = np.load(P19_path)\n",
    "P19_stat_sm = np.load(P19_sm_path)\n",
    "\n",
    "P109_stat = np.load(P109_path)\n",
    "P109_stat_sm = np.load(P109_sm_path)"
   ]
  },
  {
   "cell_type": "code",
   "execution_count": 78,
   "id": "ed4784b8",
   "metadata": {},
   "outputs": [
    {
     "data": {
      "text/plain": [
       "array([0.])"
      ]
     },
     "execution_count": 78,
     "metadata": {},
     "output_type": "execute_result"
    }
   ],
   "source": [
    "P17_stat[1][np.argmax(P22_stat[1])]"
   ]
  },
  {
   "cell_type": "code",
   "execution_count": 16,
   "id": "7161d6d0",
   "metadata": {},
   "outputs": [
    {
     "data": {
      "text/plain": [
       "(2, 69, 1)"
      ]
     },
     "execution_count": 16,
     "metadata": {},
     "output_type": "execute_result"
    }
   ],
   "source": [
    "P22_stat.shape"
   ]
  },
  {
   "cell_type": "code",
   "execution_count": 71,
   "id": "81d85919",
   "metadata": {},
   "outputs": [],
   "source": [
    "def statprint(stat, stat_sm):\n",
    "    \n",
    "    %matplotlib inline\n",
    "    \n",
    "    x_axis = np.arange(stat.shape[1])\n",
    "    x_axis_line = np.linspace(-5, stat.shape[1], stat.shape[1])\n",
    "    fig, ((ax1),(ax2)) = plt.subplots(1, 2, figsize=(16,4))\n",
    "    \n",
    "    ax1.scatter(x_axis, stat[1])\n",
    "    ax1.plot(x_axis_line, np.linspace(0.01, 0.01, stat.shape[1]), zorder=10, color = 'red')\n",
    "    ax2.scatter(x_axis, stat_sm[1])\n",
    "    ax2.plot(x_axis_line, np.linspace(0.01, 0.01, stat.shape[1]), zorder=10, color = 'red')\n",
    "    \n",
    "    ax1.set_ylim(-0.05,1.01)\n",
    "    ax2.set_ylim(-0.05,1.01)\n",
    "    \n",
    "    ax1.set_xlim(-5,stat.shape[1])\n",
    "    ax2.set_xlim(-5,stat.shape[1])\n",
    "    \n",
    "    ax1.set_xlabel('Wavenumber')\n",
    "    ax2.set_xlabel('Wavenumber')\n",
    "    \n",
    "    ax1.set_ylabel('Probability')\n",
    "    ax2.set_ylabel('Probability')\n",
    "    \n",
    "    ax1.set_title('Naive dataset')\n",
    "    ax2.set_title('Small dataset')"
   ]
  },
  {
   "cell_type": "code",
   "execution_count": 83,
   "id": "dc6d0eee",
   "metadata": {},
   "outputs": [
    {
     "data": {
      "text/plain": [
       "array([[0.00000000e+000],\n",
       "       [0.00000000e+000],\n",
       "       [0.00000000e+000],\n",
       "       [0.00000000e+000],\n",
       "       [0.00000000e+000],\n",
       "       [3.56906822e-247],\n",
       "       [7.20649893e-002],\n",
       "       [4.08975065e-159],\n",
       "       [0.00000000e+000],\n",
       "       [0.00000000e+000],\n",
       "       [0.00000000e+000],\n",
       "       [0.00000000e+000],\n",
       "       [0.00000000e+000],\n",
       "       [0.00000000e+000],\n",
       "       [0.00000000e+000],\n",
       "       [0.00000000e+000],\n",
       "       [0.00000000e+000],\n",
       "       [0.00000000e+000],\n",
       "       [0.00000000e+000],\n",
       "       [0.00000000e+000],\n",
       "       [0.00000000e+000],\n",
       "       [0.00000000e+000],\n",
       "       [2.11817763e-208],\n",
       "       [6.35238986e-078],\n",
       "       [1.62484589e-094],\n",
       "       [1.34254527e-079],\n",
       "       [0.00000000e+000],\n",
       "       [0.00000000e+000],\n",
       "       [0.00000000e+000],\n",
       "       [0.00000000e+000],\n",
       "       [0.00000000e+000],\n",
       "       [0.00000000e+000],\n",
       "       [            nan],\n",
       "       [0.00000000e+000],\n",
       "       [0.00000000e+000],\n",
       "       [0.00000000e+000],\n",
       "       [0.00000000e+000],\n",
       "       [0.00000000e+000],\n",
       "       [0.00000000e+000],\n",
       "       [0.00000000e+000],\n",
       "       [0.00000000e+000],\n",
       "       [0.00000000e+000],\n",
       "       [0.00000000e+000],\n",
       "       [0.00000000e+000],\n",
       "       [0.00000000e+000],\n",
       "       [0.00000000e+000],\n",
       "       [0.00000000e+000],\n",
       "       [0.00000000e+000],\n",
       "       [0.00000000e+000],\n",
       "       [0.00000000e+000],\n",
       "       [0.00000000e+000],\n",
       "       [0.00000000e+000],\n",
       "       [0.00000000e+000],\n",
       "       [0.00000000e+000],\n",
       "       [0.00000000e+000],\n",
       "       [0.00000000e+000],\n",
       "       [0.00000000e+000],\n",
       "       [0.00000000e+000],\n",
       "       [0.00000000e+000],\n",
       "       [0.00000000e+000],\n",
       "       [0.00000000e+000],\n",
       "       [0.00000000e+000],\n",
       "       [0.00000000e+000],\n",
       "       [0.00000000e+000],\n",
       "       [0.00000000e+000],\n",
       "       [0.00000000e+000],\n",
       "       [0.00000000e+000],\n",
       "       [0.00000000e+000],\n",
       "       [0.00000000e+000]])"
      ]
     },
     "execution_count": 83,
     "metadata": {},
     "output_type": "execute_result"
    }
   ],
   "source": [
    "P109_stat[1]"
   ]
  },
  {
   "cell_type": "code",
   "execution_count": 72,
   "id": "48788fda",
   "metadata": {},
   "outputs": [
    {
     "data": {
      "image/png": "[encoded data removed]",
      "text/plain": [
       "<Figure size 1152x288 with 2 Axes>"
      ]
     },
     "metadata": {
      "needs_background": "light"
     },
     "output_type": "display_data"
    }
   ],
   "source": [
    "P22_stat_print = statprint(P22_stat, P22_stat_sm)"
   ]
  },
  {
   "cell_type": "code",
   "execution_count": 73,
   "id": "56c86401",
   "metadata": {},
   "outputs": [
    {
     "data": {
      "image/png": "[encoded data removed]",
      "text/plain": [
       "<Figure size 1152x288 with 2 Axes>"
      ]
     },
     "metadata": {
      "needs_background": "light"
     },
     "output_type": "display_data"
    }
   ],
   "source": [
    "P17_stat_print = statprint(P17_stat, P17_stat_sm)"
   ]
  },
  {
   "cell_type": "code",
   "execution_count": 74,
   "id": "b3dfdc3b",
   "metadata": {},
   "outputs": [
    {
     "data": {
      "image/png": "[encoded data removed]",
      "text/plain": [
       "<Figure size 1152x288 with 2 Axes>"
      ]
     },
     "metadata": {
      "needs_background": "light"
     },
     "output_type": "display_data"
    }
   ],
   "source": [
    "P19_stat_print = statprint(P19_stat, P19_stat_sm)"
   ]
  },
  {
   "cell_type": "code",
   "execution_count": 75,
   "id": "c6e43c8e",
   "metadata": {},
   "outputs": [
    {
     "data": {
      "image/png": "[encoded data removed]",
      "text/plain": [
       "<Figure size 1152x288 with 2 Axes>"
      ]
     },
     "metadata": {
      "needs_background": "light"
     },
     "output_type": "display_data"
    }
   ],
   "source": [
    "P109_stat_print = statprint(P109_stat, P109_stat_sm)"
   ]
  },
  {
   "cell_type": "code",
   "execution_count": null,
   "id": "48d7622a",
   "metadata": {},
   "outputs": [],
   "source": []
  }
 ],
 "metadata": {
  "kernelspec": {
   "display_name": "Python 3 (ipykernel)",
   "language": "python",
   "name": "python3"
  },
  "language_info": {
   "codemirror_mode": {
    "name": "ipython",
    "version": 3
   },
   "file_extension": ".py",
   "mimetype": "text/x-python",
   "name": "python",
   "nbconvert_exporter": "python",
   "pygments_lexer": "ipython3",
   "version": "3.9.7"
  }
 },
 "nbformat": 4,
 "nbformat_minor": 5
}
