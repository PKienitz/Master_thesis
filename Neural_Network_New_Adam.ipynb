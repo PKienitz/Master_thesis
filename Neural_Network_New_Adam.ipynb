{
 "cells": [
  {
   "cell_type": "code",
   "execution_count": 1,
   "id": "79a37adc",
   "metadata": {},
   "outputs": [],
   "source": [
    "import pandas as pd\n",
    "import numpy as np\n",
    "import matplotlib.pyplot as plt\n",
    "import sklearn\n",
    "import scipy\n",
    "from skimage import color\n",
    "import tempfile\n",
    "import os\n",
    "from timeit import default_timer as timer\n",
    "from tempfile import TemporaryFile\n",
    "from sklearn.gaussian_process import GaussianProcessRegressor\n",
    "from sklearn.gaussian_process.kernels import RBF\n",
    "from sklearn.gaussian_process.kernels import WhiteKernel\n",
    "from sklearn.gaussian_process.kernels import ExpSineSquared\n",
    "import decimal\n",
    "from decimal import *\n",
    "from sklearn.gaussian_process.kernels import ConstantKernel\n",
    "from numpy import loadtxt\n",
    "from keras.models import Sequential\n",
    "from keras.layers import Dense\n",
    "import tensorflow as tf\n",
    "from sklearn.metrics import confusion_matrix\n",
    "import keras\n",
    "from sklearn.metrics import roc_auc_score\n",
    "import pickle\n"
   ]
  },
  {
   "cell_type": "code",
   "execution_count": 56,
   "id": "e65443e7",
   "metadata": {},
   "outputs": [],
   "source": [
    "import h5py\n",
    "import matplotlib as mpl"
   ]
  },
  {
   "cell_type": "code",
   "execution_count": 57,
   "id": "261135ee",
   "metadata": {},
   "outputs": [],
   "source": [
    "colors = plt.rcParams['axes.prop_cycle'].by_key()['color']"
   ]
  },
  {
   "cell_type": "code",
   "execution_count": 2,
   "id": "478f790a",
   "metadata": {},
   "outputs": [
    {
     "data": {
      "text/plain": [
       "[PhysicalDevice(name='/physical_device:GPU:0', device_type='GPU'),\n",
       " PhysicalDevice(name='/physical_device:GPU:1', device_type='GPU')]"
      ]
     },
     "execution_count": 2,
     "metadata": {},
     "output_type": "execute_result"
    }
   ],
   "source": [
    "tf.config.list_physical_devices('GPU')"
   ]
  },
  {
   "cell_type": "code",
   "execution_count": 3,
   "id": "b41d755f",
   "metadata": {},
   "outputs": [],
   "source": [
    "def Confus_analyzer(class_array, pred_array):\n",
    "    \n",
    "    TN, FP, FN, TP = confusion_matrix(class_array, val_pred).ravel()\n",
    "    \n",
    "    Accuracy = ((TP+TN)/(TP+TN+FP+FN))\n",
    "    print('Accuracy: ' + str(Accuracy))\n",
    "    #Sensitivity or Recall; rate of TP on all positives\n",
    "    Recall = ((TP)/(TP+FN))\n",
    "    print('Recall: ' + str(Recall))\n",
    "    Misclass = ((FP+FN)/(TP+TN+FP+FN))\n",
    "    print('Misclassifications: ' + str(Misclass))\n",
    "    #Percentage of correct TP predictions\n",
    "    Precision = ((TP)/(TP+FP))\n",
    "    print('Precision: ' + str(Precision))\n",
    "    #F1 score\n",
    "    F1_score = 2*((Precision*Recall)/(Precision+Recall))\n",
    "    print('F1_Score' + str(F1_score))\n",
    "    ROC_AUC = roc_auc_score(class_array, pred_array)\n",
    "    print('ROC_AUC: ' + str(ROC_AUC))\n",
    "    \n",
    "    \n",
    "    return()"
   ]
  },
  {
   "cell_type": "code",
   "execution_count": 4,
   "id": "145ee968",
   "metadata": {},
   "outputs": [],
   "source": [
    "def Dataframe_processor(DF_path_1, DF_path_2, appendmode=False):\n",
    "    \n",
    "    if appendmode == True:\n",
    "    \n",
    "        DF_1 = pickle.load(open(DF_path_1, 'rb'))\n",
    "        DF_2 = pickle.load(open(DF_path_2, 'rb'))\n",
    "\n",
    "\n",
    "        DF_C = DF_1.append(DF_2)\n",
    "        DF_C = DF_C.reset_index(drop=True)\n",
    "\n",
    "\n",
    "        DF_C_signals = DF_C.iloc[:, 0:(DF_C.shape[1]-1)]\n",
    "        DF_C_signals = DF_C_signals.to_numpy(copy=True)\n",
    "\n",
    "\n",
    "        DF_C_classes = DF_C.iloc[:, (DF_C.shape[1]-1):DF_C.shape[1]]\n",
    "        DF_C_classes = DF_C_classes.to_numpy(copy=True)\n",
    "    \n",
    "        return(DF_C_signals, DF_C_classes)\n",
    "    \n",
    "    if appendmode == False:\n",
    "        \n",
    "        DF_C = pickle.load(open(DF_path_1, 'rb'))\n",
    "        \n",
    "        DF_C_signals = DF_C.iloc[:, 0:(DF_C.shape[1]-1)]\n",
    "        DF_C_signals = DF_C_signals.to_numpy(copy=True)\n",
    "\n",
    "\n",
    "        DF_C_classes = DF_C.iloc[:, (DF_C.shape[1]-1):DF_C.shape[1]]\n",
    "        DF_C_classes = DF_C_classes.to_numpy(copy=True)\n",
    "    \n",
    "        return(DF_C_signals, DF_C_classes)\n",
    "    "
   ]
  },
  {
   "cell_type": "code",
   "execution_count": 5,
   "id": "e46b81d2",
   "metadata": {},
   "outputs": [],
   "source": [
    "#pickle_off = open(\"Emp.pickle\",\"rb\")\n",
    "#emp = pickle.load(pickle_off)\n",
    "#print(emp)"
   ]
  },
  {
   "cell_type": "code",
   "execution_count": 6,
   "id": "e20edc61",
   "metadata": {},
   "outputs": [],
   "source": [
    "train_df_22 ='/bph/puredata1/bioinfdata/user/phikie/Big_data_set_creation/Split_dfs/P22/P22_train.pkl'\n",
    "train_df_109C ='/bph/puredata1/bioinfdata/user/phikie/Big_data_set_creation/Split_dfs/P109C/P109_train.pkl'\n",
    "val_df_22 = '/bph/puredata1/bioinfdata/user/phikie/Big_data_set_creation/Split_dfs/P22/P22_val.pkl'\n",
    "val_df_109 = '/bph/puredata1/bioinfdata/user/phikie/Big_data_set_creation/Split_dfs/P109C/P109_val.pkl'\n",
    "test_df_22 = '/bph/puredata1/bioinfdata/user/phikie/Big_data_set_creation/Split_dfs/P22/P22_test.pkl'\n",
    "test_df_109 = '/bph/puredata1/bioinfdata/user/phikie/Big_data_set_creation/Split_dfs/P109C/P109_test.pkl'"
   ]
  },
  {
   "cell_type": "code",
   "execution_count": 7,
   "id": "33126aa2",
   "metadata": {},
   "outputs": [],
   "source": [
    "#tr_sig_109, tr_cl_109 = Dataframe_processor(train_df_109C, None, appendmode=False)"
   ]
  },
  {
   "cell_type": "code",
   "execution_count": 8,
   "id": "7b9a355a",
   "metadata": {},
   "outputs": [],
   "source": [
    "#tr_sig_109 = np.nan_to_num(tr_sig_109)"
   ]
  },
  {
   "cell_type": "code",
   "execution_count": 9,
   "id": "5565c7fb",
   "metadata": {},
   "outputs": [],
   "source": [
    "#tr_sig_22, tr_cl_22 = Dataframe_processor(train_df_22, None, appendmode=False)"
   ]
  },
  {
   "cell_type": "code",
   "execution_count": null,
   "id": "7470d792",
   "metadata": {},
   "outputs": [],
   "source": []
  },
  {
   "cell_type": "code",
   "execution_count": 10,
   "id": "a9ccf4ce",
   "metadata": {},
   "outputs": [],
   "source": [
    "train_signals, train_classes = Dataframe_processor(train_df_22, train_df_109C, appendmode=True)"
   ]
  },
  {
   "cell_type": "code",
   "execution_count": 11,
   "id": "a9f0cc36",
   "metadata": {},
   "outputs": [],
   "source": [
    "val_signals, val_classes = Dataframe_processor(val_df_22, val_df_109, appendmode=True)"
   ]
  },
  {
   "cell_type": "code",
   "execution_count": 12,
   "id": "0b95a3df",
   "metadata": {},
   "outputs": [],
   "source": [
    "test_signals, test_classes = Dataframe_processor(test_df_22, test_df_109, appendmode=True)"
   ]
  },
  {
   "cell_type": "code",
   "execution_count": 13,
   "id": "b5a86788",
   "metadata": {},
   "outputs": [],
   "source": [
    "train_signals = np.nan_to_num(train_signals)\n",
    "val_signals = np.nan_to_num(val_signals)\n",
    "test_signals = np.nan_to_num(test_signals)\n"
   ]
  },
  {
   "cell_type": "code",
   "execution_count": null,
   "id": "56faa9e0",
   "metadata": {},
   "outputs": [],
   "source": []
  },
  {
   "cell_type": "code",
   "execution_count": 14,
   "id": "07d2b7c1",
   "metadata": {},
   "outputs": [],
   "source": [
    "uniques, occurrences = np.unique(train_classes, return_counts=True)\n",
    "ratio = occurrences[1]/(occurrences[0]+occurrences[1])"
   ]
  },
  {
   "cell_type": "code",
   "execution_count": 15,
   "id": "6dbe5777",
   "metadata": {},
   "outputs": [],
   "source": [
    "class_weight_1 = 1/ratio"
   ]
  },
  {
   "cell_type": "code",
   "execution_count": 16,
   "id": "4bb656c6",
   "metadata": {},
   "outputs": [
    {
     "data": {
      "text/plain": [
       "37.79888264796193"
      ]
     },
     "execution_count": 16,
     "metadata": {},
     "output_type": "execute_result"
    }
   ],
   "source": [
    "class_weight_1"
   ]
  },
  {
   "cell_type": "code",
   "execution_count": 17,
   "id": "ef9ab415",
   "metadata": {},
   "outputs": [],
   "source": [
    "Metrics = [\n",
    "    keras.metrics.TruePositives(name='tp'),\n",
    "    keras.metrics.TrueNegatives(name='tn'),\n",
    "    keras.metrics.FalsePositives(name='fp'),\n",
    "    keras.metrics.FalseNegatives(name='fn'),\n",
    "    keras.metrics.BinaryAccuracy(name='accuracy'),\n",
    "    keras.metrics.Precision(name='precision'),\n",
    "    keras.metrics.Recall(name='recall'),\n",
    "    keras.metrics.AUC(name='AUC'),\n",
    "    keras.metrics.AUC(name='prc', curve='PR'),\n",
    "]\n",
    "\n"
   ]
  },
  {
   "cell_type": "code",
   "execution_count": 18,
   "id": "00855bff",
   "metadata": {},
   "outputs": [],
   "source": [
    "def Modelbuilder(train_signals,\n",
    "                 metrics=Metrics,\n",
    "                 learning_rate=1e-4):\n",
    "\n",
    "    \n",
    "    model = keras.Sequential([\n",
    "        keras.layers.Dense(\n",
    "            512, activation='relu',\n",
    "            input_shape=(train_signals.shape[1],)),\n",
    "        keras.layers.Dense(256, activation='relu'),\n",
    "        keras.layers.Dense(128, activation='relu'),\n",
    "        keras.layers.Dense(64, activation='relu'),\n",
    "        keras.layers.Dense(1, activation='sigmoid')])\n",
    "    model.compile(\n",
    "        optimizer = keras.optimizers.Adam(learning_rate=1e-4),\n",
    "        loss = keras.losses.BinaryCrossentropy(),\n",
    "        metrics=metrics)\n",
    "    \n",
    "    return(model)"
   ]
  },
  {
   "cell_type": "code",
   "execution_count": 19,
   "id": "e633160a",
   "metadata": {},
   "outputs": [],
   "source": [
    "def Modelbuilder_ada(train_signals,\n",
    "                 metrics=Metrics,\n",
    "                 learning_rate=1e-4):\n",
    "\n",
    "    \n",
    "    model = keras.Sequential([\n",
    "        keras.layers.Dense(\n",
    "            512, activation='relu',\n",
    "            input_shape=(train_signals.shape[1],)),\n",
    "        keras.layers.Dense(256, activation='relu'),\n",
    "        keras.layers.Dense(128, activation='relu'),\n",
    "        keras.layers.Dense(64, activation='relu'),\n",
    "        keras.layers.Dense(1, activation='sigmoid')])\n",
    "    model.compile(\n",
    "        optimizer = keras.optimizers.Adagrad(learning_rate=1e-4),\n",
    "        loss = keras.losses.BinaryCrossentropy(),\n",
    "        metrics=metrics)\n",
    "    \n",
    "    return(model)"
   ]
  },
  {
   "cell_type": "code",
   "execution_count": null,
   "id": "3b722ae4",
   "metadata": {},
   "outputs": [],
   "source": []
  },
  {
   "cell_type": "code",
   "execution_count": 20,
   "id": "a10ba3b9",
   "metadata": {},
   "outputs": [],
   "source": [
    "model1 = Modelbuilder(train_signals, metrics=Metrics, learning_rate=1e-4)\n",
    "model2 = Modelbuilder(train_signals, metrics=Metrics, learning_rate=1e-4)\n",
    "model3 = Modelbuilder(train_signals, metrics=Metrics, learning_rate=1e-5)\n",
    "model4 = Modelbuilder(train_signals, metrics=Metrics, learning_rate=1e-6)\n",
    "model5 = Modelbuilder(train_signals, metrics=Metrics, learning_rate=1e-4)\n",
    "model6 = Modelbuilder(train_signals, metrics=Metrics, learning_rate=1e-4)\n",
    "model7 = Modelbuilder_ada(train_signals, metrics=Metrics, learning_rate=1e-4)\n",
    "model8 = Modelbuilder_ada(train_signals, metrics=Metrics, learning_rate=1e-4)\n",
    "model9 = Modelbuilder_ada(train_signals, metrics=Metrics, learning_rate=1e-4)\n",
    "model10 = Modelbuilder_ada(train_signals, metrics=Metrics, learning_rate=1e-4)\n"
   ]
  },
  {
   "cell_type": "code",
   "execution_count": 21,
   "id": "747e5697",
   "metadata": {},
   "outputs": [
    {
     "name": "stdout",
     "output_type": "stream",
     "text": [
      "Epoch 1/5\n",
      "294577/294577 [==============================] - 1788s 6ms/step - loss: 1.2137 - tp: 366955.9488 - tn: 11146399.8949 - fp: 7208036.2250 - fn: 131638.7107 - accuracy: 0.6115 - precision: 0.0477 - recall: 0.7219 - AUC: 0.7172 - prc: 0.0598 - val_loss: 0.6443 - val_tp: 225965.0000 - val_tn: 6134679.0000 - val_fp: 4353435.0000 - val_fn: 59050.0000 - val_accuracy: 0.5904 - val_precision: 0.0493 - val_recall: 0.7928 - val_AUC: 0.7495 - val_prc: 0.0694\n",
      "Epoch 2/5\n",
      "294577/294577 [==============================] - 1769s 6ms/step - loss: 1.1550 - tp: 384166.6849 - tn: 11335105.1634 - fp: 7019121.1112 - fn: 114655.4175 - accuracy: 0.6205 - precision: 0.0517 - recall: 0.7700 - AUC: 0.7527 - prc: 0.0703 - val_loss: 0.6397 - val_tp: 226046.0000 - val_tn: 6273992.0000 - val_fp: 4214122.0000 - val_fn: 58969.0000 - val_accuracy: 0.6034 - val_precision: 0.0509 - val_recall: 0.7931 - val_AUC: 0.7572 - val_prc: 0.0723\n",
      "Epoch 3/5\n",
      "294577/294577 [==============================] - 1764s 6ms/step - loss: 1.1420 - tp: 385471.3592 - tn: 11481649.9032 - fp: 6872568.5417 - fn: 113406.1289 - accuracy: 0.6295 - precision: 0.0531 - recall: 0.7723 - AUC: 0.7597 - prc: 0.0728 - val_loss: 0.6326 - val_tp: 229194.0000 - val_tn: 6208864.0000 - val_fp: 4279250.0000 - val_fn: 55821.0000 - val_accuracy: 0.5976 - val_precision: 0.0508 - val_recall: 0.8041 - val_AUC: 0.7608 - val_prc: 0.0730\n",
      "Epoch 4/5\n",
      "294577/294577 [==============================] - 1778s 6ms/step - loss: 1.1368 - tp: 386561.7900 - tn: 11546742.5980 - fp: 6807111.1139 - fn: 112611.8879 - accuracy: 0.6329 - precision: 0.0538 - recall: 0.7746 - AUC: 0.7629 - prc: 0.0737 - val_loss: 0.6088 - val_tp: 222299.0000 - val_tn: 6485233.0000 - val_fp: 4002881.0000 - val_fn: 62716.0000 - val_accuracy: 0.6226 - val_precision: 0.0526 - val_recall: 0.7800 - val_AUC: 0.7606 - val_prc: 0.0733\n",
      "Epoch 5/5\n",
      "294577/294577 [==============================] - 1798s 6ms/step - loss: 1.1333 - tp: 386337.5739 - tn: 11568943.4929 - fp: 6785615.2222 - fn: 112138.5604 - accuracy: 0.6341 - precision: 0.0539 - recall: 0.7752 - AUC: 0.7642 - prc: 0.0742 - val_loss: 0.5803 - val_tp: 219116.0000 - val_tn: 6658549.0000 - val_fp: 3829565.0000 - val_fn: 65899.0000 - val_accuracy: 0.6384 - val_precision: 0.0541 - val_recall: 0.7688 - val_AUC: 0.7625 - val_prc: 0.0731\n"
     ]
    }
   ],
   "source": [
    "#Standard reference\n",
    "model1_history = model1.fit(\n",
    "    train_signals,\n",
    "    train_classes,\n",
    "    epochs = 5,\n",
    "    batch_size = 128,\n",
    "    class_weight={0:1, 1:class_weight_1},\n",
    "    validation_data=(val_signals, val_classes))"
   ]
  },
  {
   "cell_type": "code",
   "execution_count": 22,
   "id": "d573d6cb",
   "metadata": {},
   "outputs": [
    {
     "name": "stdout",
     "output_type": "stream",
     "text": [
      "Epoch 1/5\n",
      "294577/294577 [==============================] - 1784s 6ms/step - loss: 0.1159 - tp: 219122.5018 - tn: 25012566.1209 - fp: 3830026.6247 - fn: 564448.1469 - accuracy: 0.8295 - precision: 0.0541 - recall: 0.3305 - AUC: 0.6460 - prc: 0.0512 - val_loss: 0.1120 - val_tp: 0.0000e+00 - val_tn: 10488114.0000 - val_fp: 0.0000e+00 - val_fn: 285015.0000 - val_accuracy: 0.9735 - val_precision: 0.0000e+00 - val_recall: 0.0000e+00 - val_AUC: 0.7462 - val_prc: 0.0694\n",
      "Epoch 2/5\n",
      "294577/294577 [==============================] - 1803s 6ms/step - loss: 0.1116 - tp: 2.7492 - tn: 18353996.7789 - fp: 4.6668 - fn: 499043.0084 - accuracy: 0.9735 - precision: 0.2801 - recall: 4.3042e-06 - AUC: 0.7488 - prc: 0.0702 - val_loss: 0.1110 - val_tp: 5.0000 - val_tn: 10488114.0000 - val_fp: 0.0000e+00 - val_fn: 285010.0000 - val_accuracy: 0.9735 - val_precision: 1.0000 - val_recall: 1.7543e-05 - val_AUC: 0.7559 - val_prc: 0.0728\n",
      "Epoch 3/5\n",
      "294577/294577 [==============================] - 1765s 6ms/step - loss: 0.1109 - tp: 9.4811 - tn: 18354128.7416 - fp: 9.5357 - fn: 498833.4523 - accuracy: 0.9735 - precision: 0.5400 - recall: 2.3047e-05 - AUC: 0.7571 - prc: 0.0730 - val_loss: 0.1106 - val_tp: 11.0000 - val_tn: 10488109.0000 - val_fp: 5.0000 - val_fn: 285004.0000 - val_accuracy: 0.9735 - val_precision: 0.6875 - val_recall: 3.8594e-05 - val_AUC: 0.7593 - val_prc: 0.0742\n",
      "Epoch 4/5\n",
      "294577/294577 [==============================] - 1756s 6ms/step - loss: 0.1104 - tp: 26.4043 - tn: 18353959.5888 - fp: 20.8210 - fn: 498822.2182 - accuracy: 0.9735 - precision: 0.5515 - recall: 4.8099e-05 - AUC: 0.7609 - prc: 0.0747 - val_loss: 0.1104 - val_tp: 6.0000 - val_tn: 10488113.0000 - val_fp: 1.0000 - val_fn: 285009.0000 - val_accuracy: 0.9735 - val_precision: 0.8571 - val_recall: 2.1052e-05 - val_AUC: 0.7613 - val_prc: 0.0744\n",
      "Epoch 5/5\n",
      "294577/294577 [==============================] - 1769s 6ms/step - loss: 0.1100 - tp: 26.9119 - tn: 18354509.5601 - fp: 26.2226 - fn: 498249.1490 - accuracy: 0.9736 - precision: 0.5246 - recall: 5.5181e-05 - AUC: 0.7634 - prc: 0.0757 - val_loss: 0.1104 - val_tp: 27.0000 - val_tn: 10488084.0000 - val_fp: 30.0000 - val_fn: 284988.0000 - val_accuracy: 0.9735 - val_precision: 0.4737 - val_recall: 9.4732e-05 - val_AUC: 0.7621 - val_prc: 0.0748\n"
     ]
    }
   ],
   "source": [
    "#No class weights\n",
    "model2_history = model2.fit(\n",
    "    train_signals,\n",
    "    train_classes,\n",
    "    epochs = 5,\n",
    "    batch_size = 128,\n",
    "    validation_data=(val_signals, val_classes))"
   ]
  },
  {
   "cell_type": "code",
   "execution_count": 23,
   "id": "2307dca5",
   "metadata": {},
   "outputs": [
    {
     "name": "stdout",
     "output_type": "stream",
     "text": [
      "Epoch 1/5\n",
      "294577/294577 [==============================] - 1826s 6ms/step - loss: 1.2140 - tp: 366689.9034 - tn: 21630675.6412 - fp: 7211976.9137 - fn: 416909.9982 - accuracy: 0.7664 - precision: 0.0475 - recall: 0.4165 - AUC: 0.6420 - prc: 0.0496 - val_loss: 0.5876 - val_tp: 209929.0000 - val_tn: 6719972.0000 - val_fp: 3768142.0000 - val_fn: 75086.0000 - val_accuracy: 0.6433 - val_precision: 0.0528 - val_recall: 0.7366 - val_AUC: 0.7473 - val_prc: 0.0676\n",
      "Epoch 2/5\n",
      "294577/294577 [==============================] - 1783s 6ms/step - loss: 1.1528 - tp: 384055.1779 - tn: 11348744.7562 - fp: 7006010.0972 - fn: 114247.3797 - accuracy: 0.6217 - precision: 0.0518 - recall: 0.7704 - AUC: 0.7534 - prc: 0.0702 - val_loss: 0.6381 - val_tp: 228817.0000 - val_tn: 6159859.0000 - val_fp: 4328255.0000 - val_fn: 56198.0000 - val_accuracy: 0.5930 - val_precision: 0.0502 - val_recall: 0.8028 - val_AUC: 0.7558 - val_prc: 0.0702\n",
      "Epoch 3/5\n",
      "294577/294577 [==============================] - 1739s 6ms/step - loss: 1.1410 - tp: 386060.1047 - tn: 11464650.3135 - fp: 6889590.4232 - fn: 112739.6008 - accuracy: 0.6284 - precision: 0.0530 - recall: 0.7738 - AUC: 0.7600 - prc: 0.0725 - val_loss: 0.5676 - val_tp: 211907.0000 - val_tn: 6872003.0000 - val_fp: 3616111.0000 - val_fn: 73108.0000 - val_accuracy: 0.6576 - val_precision: 0.0554 - val_recall: 0.7435 - val_AUC: 0.7608 - val_prc: 0.0728\n",
      "Epoch 4/5\n",
      "294577/294577 [==============================] - 1780s 6ms/step - loss: 1.1367 - tp: 386801.9321 - tn: 11526020.8275 - fp: 6827960.5239 - fn: 112267.5162 - accuracy: 0.6315 - precision: 0.0536 - recall: 0.7756 - AUC: 0.7627 - prc: 0.0734 - val_loss: 0.6417 - val_tp: 227870.0000 - val_tn: 6259613.0000 - val_fp: 4228501.0000 - val_fn: 57145.0000 - val_accuracy: 0.6022 - val_precision: 0.0511 - val_recall: 0.7995 - val_AUC: 0.7604 - val_prc: 0.0735\n",
      "Epoch 5/5\n",
      "294577/294577 [==============================] - 1803s 6ms/step - loss: 1.1327 - tp: 386211.2234 - tn: 11571787.4731 - fp: 6782891.7829 - fn: 112157.1454 - accuracy: 0.6341 - precision: 0.0539 - recall: 0.7757 - AUC: 0.7644 - prc: 0.0739 - val_loss: 0.5537 - val_tp: 210525.0000 - val_tn: 6941548.0000 - val_fp: 3546566.0000 - val_fn: 74490.0000 - val_accuracy: 0.6639 - val_precision: 0.0560 - val_recall: 0.7386 - val_AUC: 0.7620 - val_prc: 0.0722\n"
     ]
    }
   ],
   "source": [
    "#Learning rate 1e-5\n",
    "model3_history = model3.fit(\n",
    "    train_signals,\n",
    "    train_classes,\n",
    "    epochs = 5,\n",
    "    batch_size = 128,\n",
    "    class_weight={0:1, 1:class_weight_1},\n",
    "    validation_data=(val_signals, val_classes))"
   ]
  },
  {
   "cell_type": "code",
   "execution_count": 24,
   "id": "3af7de4a",
   "metadata": {},
   "outputs": [
    {
     "name": "stdout",
     "output_type": "stream",
     "text": [
      "Epoch 1/5\n",
      "294577/294577 [==============================] - 1834s 6ms/step - loss: 1.2127 - tp: 577895.0659 - tn: 18075566.6910 - fp: 10767390.4159 - fn: 205371.8732 - accuracy: 0.6331 - precision: 0.0513 - recall: 0.7352 - AUC: 0.7406 - prc: 0.0662 - val_loss: 0.5993 - val_tp: 217592.0000 - val_tn: 6493498.0000 - val_fp: 3994616.0000 - val_fn: 67423.0000 - val_accuracy: 0.6229 - val_precision: 0.0517 - val_recall: 0.7634 - val_AUC: 0.7506 - val_prc: 0.0701\n",
      "Epoch 2/5\n",
      "294577/294577 [==============================] - 1757s 6ms/step - loss: 1.1524 - tp: 383594.8242 - tn: 11374565.7142 - fp: 6979816.6593 - fn: 115071.6627 - accuracy: 0.6234 - precision: 0.0520 - recall: 0.7691 - AUC: 0.7540 - prc: 0.0706 - val_loss: 0.6151 - val_tp: 224020.0000 - val_tn: 6383921.0000 - val_fp: 4104193.0000 - val_fn: 60995.0000 - val_accuracy: 0.6134 - val_precision: 0.0518 - val_recall: 0.7860 - val_AUC: 0.7583 - val_prc: 0.0725\n",
      "Epoch 3/5\n",
      "294577/294577 [==============================] - 1760s 6ms/step - loss: 1.1415 - tp: 385676.6887 - tn: 11475837.5553 - fp: 6878419.5355 - fn: 113149.0678 - accuracy: 0.6288 - precision: 0.0531 - recall: 0.7737 - AUC: 0.7600 - prc: 0.0727 - val_loss: 0.6021 - val_tp: 222850.0000 - val_tn: 6445507.0000 - val_fp: 4042607.0000 - val_fn: 62165.0000 - val_accuracy: 0.6190 - val_precision: 0.0522 - val_recall: 0.7819 - val_AUC: 0.7586 - val_prc: 0.0721\n",
      "Epoch 4/5\n",
      "294577/294577 [==============================] - 1777s 6ms/step - loss: 1.1373 - tp: 385748.4329 - tn: 11545381.6009 - fp: 6808993.4295 - fn: 112951.9363 - accuracy: 0.6326 - precision: 0.0536 - recall: 0.7740 - AUC: 0.7623 - prc: 0.0736 - val_loss: 0.5603 - val_tp: 210494.0000 - val_tn: 6925047.0000 - val_fp: 3563067.0000 - val_fn: 74521.0000 - val_accuracy: 0.6623 - val_precision: 0.0558 - val_recall: 0.7385 - val_AUC: 0.7606 - val_prc: 0.0735\n",
      "Epoch 5/5\n",
      "294577/294577 [==============================] - 1780s 6ms/step - loss: 1.1337 - tp: 387239.9771 - tn: 11557942.4815 - fp: 6796196.7085 - fn: 111675.8099 - accuracy: 0.6336 - precision: 0.0539 - recall: 0.7765 - AUC: 0.7639 - prc: 0.0738 - val_loss: 0.5672 - val_tp: 214190.0000 - val_tn: 6827284.0000 - val_fp: 3660830.0000 - val_fn: 70825.0000 - val_accuracy: 0.6536 - val_precision: 0.0553 - val_recall: 0.7515 - val_AUC: 0.7625 - val_prc: 0.0735\n"
     ]
    }
   ],
   "source": [
    "#Learning rate 1e-6\n",
    "model4_history = model4.fit(\n",
    "    train_signals,\n",
    "    train_classes,\n",
    "    epochs = 5,\n",
    "    batch_size = 128,\n",
    "    class_weight={0:1, 1:class_weight_1},\n",
    "    validation_data=(val_signals, val_classes))"
   ]
  },
  {
   "cell_type": "code",
   "execution_count": 25,
   "id": "1dc5b88d",
   "metadata": {},
   "outputs": [
    {
     "name": "stdout",
     "output_type": "stream",
     "text": [
      "Epoch 1/5\n",
      "73645/73645 [==============================] - 480s 6ms/step - loss: 1.2229 - tp: 576671.3839 - tn: 17987204.8623 - fp: 10855540.9564 - fn: 207257.7805 - accuracy: 0.6297 - precision: 0.0508 - recall: 0.7341 - AUC: 0.7379 - prc: 0.0659 - val_loss: 0.5950 - val_tp: 216472.0000 - val_tn: 6512351.0000 - val_fp: 3975763.0000 - val_fn: 68543.0000 - val_accuracy: 0.6246 - val_precision: 0.0516 - val_recall: 0.7595 - val_AUC: 0.7482 - val_prc: 0.0677\n",
      "Epoch 2/5\n",
      "73645/73645 [==============================] - 465s 6ms/step - loss: 1.1561 - tp: 385604.2356 - tn: 11272737.4080 - fp: 7081562.7715 - fn: 113698.9882 - accuracy: 0.6175 - precision: 0.0515 - recall: 0.7717 - AUC: 0.7517 - prc: 0.0695 - val_loss: 0.6341 - val_tp: 227118.0000 - val_tn: 6223715.0000 - val_fp: 4264399.0000 - val_fn: 57897.0000 - val_accuracy: 0.5988 - val_precision: 0.0506 - val_recall: 0.7969 - val_AUC: 0.7564 - val_prc: 0.0713\n",
      "Epoch 3/5\n",
      "73645/73645 [==============================] - 457s 6ms/step - loss: 1.1374 - tp: 389546.6558 - tn: 11403853.3414 - fp: 6950646.6949 - fn: 109560.5754 - accuracy: 0.6255 - precision: 0.0531 - recall: 0.7804 - AUC: 0.7617 - prc: 0.0731 - val_loss: 0.6098 - val_tp: 224377.0000 - val_tn: 6450562.0000 - val_fp: 4037552.0000 - val_fn: 60638.0000 - val_accuracy: 0.6196 - val_precision: 0.0526 - val_recall: 0.7872 - val_AUC: 0.7630 - val_prc: 0.0735\n",
      "Epoch 4/5\n",
      "73645/73645 [==============================] - 484s 7ms/step - loss: 1.1259 - tp: 390841.9683 - tn: 11497333.7434 - fp: 6857507.5068 - fn: 107939.5855 - accuracy: 0.6307 - precision: 0.0539 - recall: 0.7832 - AUC: 0.7667 - prc: 0.0744 - val_loss: 0.6094 - val_tp: 225373.0000 - val_tn: 6372918.0000 - val_fp: 4115196.0000 - val_fn: 59642.0000 - val_accuracy: 0.6125 - val_precision: 0.0519 - val_recall: 0.7907 - val_AUC: 0.7608 - val_prc: 0.0732\n",
      "Epoch 5/5\n",
      "73645/73645 [==============================] - 459s 6ms/step - loss: 1.1177 - tp: 392277.2211 - tn: 11568113.4384 - fp: 6786521.1175 - fn: 106676.3427 - accuracy: 0.6345 - precision: 0.0546 - recall: 0.7861 - AUC: 0.7708 - prc: 0.0761 - val_loss: 0.5915 - val_tp: 222846.0000 - val_tn: 6600684.0000 - val_fp: 3887430.0000 - val_fn: 62169.0000 - val_accuracy: 0.6334 - val_precision: 0.0542 - val_recall: 0.7819 - val_AUC: 0.7676 - val_prc: 0.0758\n"
     ]
    }
   ],
   "source": [
    "#Batch size 512\n",
    "model5_history = model5.fit(\n",
    "    train_signals,\n",
    "    train_classes,\n",
    "    epochs = 5,\n",
    "    batch_size = 512,\n",
    "    class_weight={0:1, 1:class_weight_1},\n",
    "    validation_data=(val_signals, val_classes))"
   ]
  },
  {
   "cell_type": "code",
   "execution_count": 26,
   "id": "f42c1ee6",
   "metadata": {},
   "outputs": [
    {
     "name": "stdout",
     "output_type": "stream",
     "text": [
      "Epoch 1/5\n",
      "589153/589153 [==============================] - 3648s 6ms/step - loss: 1.2120 - tp: 591872.5731 - tn: 17700413.9499 - fp: 11141860.9083 - fn: 191916.4730 - accuracy: 0.6189 - precision: 0.0507 - recall: 0.7557 - AUC: 0.7440 - prc: 0.0681 - val_loss: 0.5557 - val_tp: 204255.0000 - val_tn: 6915311.0000 - val_fp: 3572803.0000 - val_fn: 80760.0000 - val_accuracy: 0.6609 - val_precision: 0.0541 - val_recall: 0.7166 - val_AUC: 0.7478 - val_prc: 0.0693\n",
      "Epoch 2/5\n",
      "589153/589153 [==============================] - 3566s 6ms/step - loss: 1.1652 - tp: 381623.8447 - tn: 11276926.8575 - fp: 7077559.5933 - fn: 116894.6486 - accuracy: 0.6187 - precision: 0.0511 - recall: 0.7649 - AUC: 0.7483 - prc: 0.0687 - val_loss: 0.5936 - val_tp: 212760.0000 - val_tn: 6651278.0000 - val_fp: 3836836.0000 - val_fn: 72255.0000 - val_accuracy: 0.6371 - val_precision: 0.0525 - val_recall: 0.7465 - val_AUC: 0.7484 - val_prc: 0.0686\n",
      "Epoch 3/5\n",
      "589153/589153 [==============================] - 3633s 6ms/step - loss: 1.1616 - tp: 382512.7456 - tn: 11332363.3092 - fp: 7021603.9929 - fn: 116466.5923 - accuracy: 0.6213 - precision: 0.0517 - recall: 0.7666 - AUC: 0.7508 - prc: 0.0691 - val_loss: 0.5900 - val_tp: 217343.0000 - val_tn: 6561276.0000 - val_fp: 3926838.0000 - val_fn: 67672.0000 - val_accuracy: 0.6292 - val_precision: 0.0524 - val_recall: 0.7626 - val_AUC: 0.7532 - val_prc: 0.0693\n",
      "Epoch 4/5\n",
      "589153/589153 [==============================] - 3611s 6ms/step - loss: 1.1575 - tp: 383190.0899 - tn: 11367857.1876 - fp: 6986244.8719 - fn: 115634.1845 - accuracy: 0.6226 - precision: 0.0519 - recall: 0.7689 - AUC: 0.7528 - prc: 0.0693 - val_loss: 0.6117 - val_tp: 222698.0000 - val_tn: 6375603.0000 - val_fp: 4112511.0000 - val_fn: 62317.0000 - val_accuracy: 0.6125 - val_precision: 0.0514 - val_recall: 0.7814 - val_AUC: 0.7541 - val_prc: 0.0707\n",
      "Epoch 5/5\n",
      "589153/589153 [==============================] - 3615s 6ms/step - loss: 1.1570 - tp: 382650.5055 - tn: 11431254.9104 - fp: 6922622.8366 - fn: 116451.5731 - accuracy: 0.6260 - precision: 0.0524 - recall: 0.7676 - AUC: 0.7538 - prc: 0.0697 - val_loss: 0.5912 - val_tp: 216132.0000 - val_tn: 6615694.0000 - val_fp: 3872420.0000 - val_fn: 68883.0000 - val_accuracy: 0.6342 - val_precision: 0.0529 - val_recall: 0.7583 - val_AUC: 0.7530 - val_prc: 0.0695\n"
     ]
    }
   ],
   "source": [
    "#Batch size 64\n",
    "model6_history = model6.fit(\n",
    "    train_signals,\n",
    "    train_classes,\n",
    "    epochs = 5,\n",
    "    batch_size = 64,\n",
    "    class_weight={0:1, 1:class_weight_1},\n",
    "    validation_data=(val_signals, val_classes))"
   ]
  },
  {
   "cell_type": "code",
   "execution_count": 27,
   "id": "55084f20",
   "metadata": {},
   "outputs": [
    {
     "name": "stdout",
     "output_type": "stream",
     "text": [
      "Epoch 1/5\n",
      "294577/294577 [==============================] - 1808s 6ms/step - loss: 1.3229 - tp: 527664.3469 - tn: 17824660.0597 - fp: 11017761.3154 - fn: 256034.1735 - accuracy: 0.6226 - precision: 0.0465 - recall: 0.6792 - AUC: 0.6947 - prc: 0.0566 - val_loss: 0.6665 - val_tp: 183051.0000 - val_tn: 6373511.0000 - val_fp: 4114603.0000 - val_fn: 101964.0000 - val_accuracy: 0.6086 - val_precision: 0.0426 - val_recall: 0.6423 - val_AUC: 0.6564 - val_prc: 0.0472\n",
      "Epoch 2/5\n",
      "294577/294577 [==============================] - 1772s 6ms/step - loss: 1.2966 - tp: 324511.2990 - tn: 11055197.1965 - fp: 7299206.2294 - fn: 174099.5314 - accuracy: 0.6038 - precision: 0.0426 - recall: 0.6503 - AUC: 0.6593 - prc: 0.0477 - val_loss: 0.6632 - val_tp: 184644.0000 - val_tn: 6386896.0000 - val_fp: 4101218.0000 - val_fn: 100371.0000 - val_accuracy: 0.6100 - val_precision: 0.0431 - val_recall: 0.6478 - val_AUC: 0.6620 - val_prc: 0.0484\n",
      "Epoch 3/5\n",
      "294577/294577 [==============================] - 1757s 6ms/step - loss: 1.2875 - tp: 324264.6494 - tn: 11194351.9905 - fp: 7160734.9683 - fn: 173719.3905 - accuracy: 0.6108 - precision: 0.0432 - recall: 0.6506 - AUC: 0.6643 - prc: 0.0488 - val_loss: 0.6655 - val_tp: 185743.0000 - val_tn: 6407753.0000 - val_fp: 4080361.0000 - val_fn: 99272.0000 - val_accuracy: 0.6120 - val_precision: 0.0435 - val_recall: 0.6517 - val_AUC: 0.6658 - val_prc: 0.0492\n",
      "Epoch 4/5\n",
      "294577/294577 [==============================] - 1780s 6ms/step - loss: 1.2845 - tp: 324579.5428 - tn: 11308146.4414 - fp: 7046135.9706 - fn: 174165.8881 - accuracy: 0.6163 - precision: 0.0440 - recall: 0.6508 - AUC: 0.6674 - prc: 0.0496 - val_loss: 0.6617 - val_tp: 184357.0000 - val_tn: 6513608.0000 - val_fp: 3974506.0000 - val_fn: 100658.0000 - val_accuracy: 0.6217 - val_precision: 0.0443 - val_recall: 0.6468 - val_AUC: 0.6685 - val_prc: 0.0498\n",
      "Epoch 5/5\n",
      "294577/294577 [==============================] - 1779s 6ms/step - loss: 1.2789 - tp: 322850.0350 - tn: 11428823.7482 - fp: 6926131.9617 - fn: 175229.3866 - accuracy: 0.6232 - precision: 0.0445 - recall: 0.6480 - AUC: 0.6704 - prc: 0.0500 - val_loss: 0.6620 - val_tp: 185301.0000 - val_tn: 6521735.0000 - val_fp: 3966379.0000 - val_fn: 99714.0000 - val_accuracy: 0.6226 - val_precision: 0.0446 - val_recall: 0.6501 - val_AUC: 0.6709 - val_prc: 0.0502\n"
     ]
    }
   ],
   "source": [
    "#Adagrad optimizer\n",
    "model7_history = model7.fit(\n",
    "    train_signals,\n",
    "    train_classes,\n",
    "    epochs = 5,\n",
    "    batch_size = 128,\n",
    "    class_weight={0:1, 1:class_weight_1},\n",
    "    validation_data=(val_signals, val_classes))"
   ]
  },
  {
   "cell_type": "code",
   "execution_count": 28,
   "id": "aeb1028d",
   "metadata": {},
   "outputs": [
    {
     "name": "stdout",
     "output_type": "stream",
     "text": [
      "Epoch 1/5\n",
      "294577/294577 [==============================] - 1819s 6ms/step - loss: 0.1768 - tp: 185301.0000 - tn: 24875606.7477 - fp: 3966382.9998 - fn: 598935.7790 - accuracy: 0.8227 - precision: 0.0446 - recall: 0.2792 - AUC: 0.5567 - prc: 0.0375 - val_loss: 0.1196 - val_tp: 0.0000e+00 - val_tn: 10488114.0000 - val_fp: 0.0000e+00 - val_fn: 285015.0000 - val_accuracy: 0.9735 - val_precision: 0.0000e+00 - val_recall: 0.0000e+00 - val_AUC: 0.6363 - val_prc: 0.0446\n",
      "Epoch 2/5\n",
      "294577/294577 [==============================] - 1786s 6ms/step - loss: 0.1193 - tp: 0.0000e+00 - tn: 18354579.3175 - fp: 0.0000e+00 - fn: 498358.2423 - accuracy: 0.9736 - precision: 0.0000e+00 - recall: 0.0000e+00 - AUC: 0.6383 - prc: 0.0449 - val_loss: 0.1190 - val_tp: 0.0000e+00 - val_tn: 10488114.0000 - val_fp: 0.0000e+00 - val_fn: 285015.0000 - val_accuracy: 0.9735 - val_precision: 0.0000e+00 - val_recall: 0.0000e+00 - val_AUC: 0.6458 - val_prc: 0.0460\n",
      "Epoch 3/5\n",
      "294577/294577 [==============================] - 1781s 6ms/step - loss: 0.1188 - tp: 0.0000e+00 - tn: 18354528.6052 - fp: 0.0000e+00 - fn: 498387.0102 - accuracy: 0.9736 - precision: 0.0000e+00 - recall: 0.0000e+00 - AUC: 0.6485 - prc: 0.0464 - val_loss: 0.1187 - val_tp: 0.0000e+00 - val_tn: 10488114.0000 - val_fp: 0.0000e+00 - val_fn: 285015.0000 - val_accuracy: 0.9735 - val_precision: 0.0000e+00 - val_recall: 0.0000e+00 - val_AUC: 0.6496 - val_prc: 0.0467\n",
      "Epoch 4/5\n",
      "294577/294577 [==============================] - 1770s 6ms/step - loss: 0.1185 - tp: 0.0000e+00 - tn: 18354710.0490 - fp: 0.0000e+00 - fn: 498150.7005 - accuracy: 0.9736 - precision: 0.0000e+00 - recall: 0.0000e+00 - AUC: 0.6515 - prc: 0.0471 - val_loss: 0.1185 - val_tp: 0.0000e+00 - val_tn: 10488114.0000 - val_fp: 0.0000e+00 - val_fn: 285015.0000 - val_accuracy: 0.9735 - val_precision: 0.0000e+00 - val_recall: 0.0000e+00 - val_AUC: 0.6530 - val_prc: 0.0473\n",
      "Epoch 5/5\n",
      "294577/294577 [==============================] - 1772s 6ms/step - loss: 0.1183 - tp: 0.0000e+00 - tn: 18354236.2146 - fp: 0.0000e+00 - fn: 498650.8112 - accuracy: 0.9736 - precision: 0.0000e+00 - recall: 0.0000e+00 - AUC: 0.6547 - prc: 0.0476 - val_loss: 0.1184 - val_tp: 0.0000e+00 - val_tn: 10488114.0000 - val_fp: 0.0000e+00 - val_fn: 285015.0000 - val_accuracy: 0.9735 - val_precision: 0.0000e+00 - val_recall: 0.0000e+00 - val_AUC: 0.6557 - val_prc: 0.0478\n"
     ]
    }
   ],
   "source": [
    "#Adagrad optimizer, no class weights\n",
    "model8_history = model8.fit(\n",
    "    train_signals,\n",
    "    train_classes,\n",
    "    epochs = 5,\n",
    "    batch_size = 128,\n",
    "    validation_data=(val_signals, val_classes))"
   ]
  },
  {
   "cell_type": "code",
   "execution_count": 31,
   "id": "3161f5b0",
   "metadata": {},
   "outputs": [],
   "source": [
    "np.save('/bph/puredata1/bioinfdata/user/phikie/Neural_network_results/model1_history.npy', model1_history.history)"
   ]
  },
  {
   "cell_type": "code",
   "execution_count": 32,
   "id": "f3a292d5",
   "metadata": {},
   "outputs": [],
   "source": [
    "np.save('/bph/puredata1/bioinfdata/user/phikie/Neural_network_results/model2_history.npy', model2_history.history)"
   ]
  },
  {
   "cell_type": "code",
   "execution_count": 33,
   "id": "442af84e",
   "metadata": {},
   "outputs": [],
   "source": [
    "np.save('/bph/puredata1/bioinfdata/user/phikie/Neural_network_results/model3_history.npy', model3_history.history)"
   ]
  },
  {
   "cell_type": "code",
   "execution_count": 34,
   "id": "cf55020f",
   "metadata": {},
   "outputs": [],
   "source": [
    "np.save('/bph/puredata1/bioinfdata/user/phikie/Neural_network_results/model4_history.npy', model4_history.history)"
   ]
  },
  {
   "cell_type": "code",
   "execution_count": 35,
   "id": "676bbeff",
   "metadata": {},
   "outputs": [],
   "source": [
    "np.save('/bph/puredata1/bioinfdata/user/phikie/Neural_network_results/model5_history.npy', model5_history.history)"
   ]
  },
  {
   "cell_type": "code",
   "execution_count": 36,
   "id": "c78a2252",
   "metadata": {},
   "outputs": [],
   "source": [
    "np.save('/bph/puredata1/bioinfdata/user/phikie/Neural_network_results/model6_history.npy', model6_history.history)"
   ]
  },
  {
   "cell_type": "code",
   "execution_count": 37,
   "id": "d3f408fd",
   "metadata": {},
   "outputs": [],
   "source": [
    "np.save('/bph/puredata1/bioinfdata/user/phikie/Neural_network_results/model7_history.npy', model7_history.history)"
   ]
  },
  {
   "cell_type": "code",
   "execution_count": 38,
   "id": "9c16d6c2",
   "metadata": {},
   "outputs": [],
   "source": [
    "np.save('/bph/puredata1/bioinfdata/user/phikie/Neural_network_results/model8_history.npy', model8_history.history)"
   ]
  },
  {
   "cell_type": "code",
   "execution_count": null,
   "id": "f4a7be2d",
   "metadata": {},
   "outputs": [],
   "source": [
    "#Example code to load np.history\n",
    "#history1=np.load('history1.npy',allow_pickle='TRUE').item()\n"
   ]
  },
  {
   "cell_type": "code",
   "execution_count": null,
   "id": "2ff60061",
   "metadata": {},
   "outputs": [],
   "source": [
    "NN_model.save('/bph/puredata1/bioinfdata/user/phikie/Big_data_set_creation/Neural_networks/NN_1_B32_adam.h5')"
   ]
  },
  {
   "cell_type": "code",
   "execution_count": 43,
   "id": "30722756",
   "metadata": {},
   "outputs": [],
   "source": [
    "def Modelsaver(NN_model, path_and_name):\n",
    "    \n",
    "    NN_model.save(path_and_name + '.h5')"
   ]
  },
  {
   "cell_type": "code",
   "execution_count": 52,
   "id": "8c8d07a3",
   "metadata": {},
   "outputs": [],
   "source": [
    "Modelsaver(\n",
    "    model1,\n",
    "    '/bph/puredata1/bioinfdata/user/phikie/Neural_network_results/model1')"
   ]
  },
  {
   "cell_type": "code",
   "execution_count": 45,
   "id": "36707a6f",
   "metadata": {},
   "outputs": [],
   "source": [
    "Modelsaver(\n",
    "    model2,\n",
    "    '/bph/puredata1/bioinfdata/user/phikie/Neural_network_results/model2')"
   ]
  },
  {
   "cell_type": "code",
   "execution_count": 46,
   "id": "616d7aa3",
   "metadata": {},
   "outputs": [],
   "source": [
    "Modelsaver(\n",
    "    model3,\n",
    "    '/bph/puredata1/bioinfdata/user/phikie/Neural_network_results/model3')"
   ]
  },
  {
   "cell_type": "code",
   "execution_count": 47,
   "id": "dc3804d0",
   "metadata": {},
   "outputs": [],
   "source": [
    "Modelsaver(\n",
    "    model4,\n",
    "    '/bph/puredata1/bioinfdata/user/phikie/Neural_network_results/model4')"
   ]
  },
  {
   "cell_type": "code",
   "execution_count": 48,
   "id": "7e777e2e",
   "metadata": {},
   "outputs": [],
   "source": [
    "Modelsaver(\n",
    "    model5,\n",
    "    '/bph/puredata1/bioinfdata/user/phikie/Neural_network_results/model5')"
   ]
  },
  {
   "cell_type": "code",
   "execution_count": 49,
   "id": "b8b916dc",
   "metadata": {},
   "outputs": [],
   "source": [
    "Modelsaver(\n",
    "    model6,\n",
    "    '/bph/puredata1/bioinfdata/user/phikie/Neural_network_results/model6')"
   ]
  },
  {
   "cell_type": "code",
   "execution_count": 50,
   "id": "bf72bf76",
   "metadata": {},
   "outputs": [],
   "source": [
    "Modelsaver(\n",
    "    model7,\n",
    "    '/bph/puredata1/bioinfdata/user/phikie/Neural_network_results/model7')"
   ]
  },
  {
   "cell_type": "code",
   "execution_count": 51,
   "id": "7c653e24",
   "metadata": {},
   "outputs": [],
   "source": [
    "Modelsaver(\n",
    "    model8,\n",
    "    '/bph/puredata1/bioinfdata/user/phikie/Neural_network_results/model8')"
   ]
  },
  {
   "cell_type": "code",
   "execution_count": null,
   "id": "02608a3e",
   "metadata": {},
   "outputs": [],
   "source": []
  },
  {
   "cell_type": "code",
   "execution_count": 87,
   "id": "ba9362ca",
   "metadata": {},
   "outputs": [],
   "source": [
    "def Loss_plotter(history, n):\n",
    "    \n",
    "    %matplotlib inline\n",
    "    \n",
    "    plt.semilogy(history.epoch, history.history['loss'],\n",
    "                 color=colors[n], label='Train')\n",
    "    plt.semilogy(history.epoch, history.history['val_loss'],\n",
    "                color=colors[n+1], label='Val')\n",
    "    \n",
    "    plt.legend(loc=\"upper left\")\n",
    "    \n",
    "    plt.xlabel('Epoch')\n",
    "    plt.ylabel('loss')"
   ]
  },
  {
   "cell_type": "code",
   "execution_count": 88,
   "id": "b53ce880",
   "metadata": {},
   "outputs": [
    {
     "data": {
      "image/png": "[encoded data removed]",
      "text/plain": [
       "<Figure size 432x288 with 1 Axes>"
      ]
     },
     "metadata": {
      "needs_background": "light"
     },
     "output_type": "display_data"
    }
   ],
   "source": [
    "Loss_plotter(model8_history, 0)"
   ]
  },
  {
   "cell_type": "code",
   "execution_count": 91,
   "id": "7a8a4751",
   "metadata": {},
   "outputs": [
    {
     "data": {
      "text/plain": [
       "0.6552527546882629"
      ]
     },
     "execution_count": 91,
     "metadata": {},
     "output_type": "execute_result"
    }
   ],
   "source": [
    "model8_history.history['AUC'][4]"
   ]
  },
  {
   "cell_type": "code",
   "execution_count": 123,
   "id": "bf30e898",
   "metadata": {},
   "outputs": [],
   "source": [
    "#Takes in a keras history and returns a datafram with the most interesting metrics of the last epoch\n",
    "\n",
    "def Tabler(hist):\n",
    "    \n",
    "    table = pd.DataFrame.from_dict(hist.history)\n",
    "    table2 = table.iloc[(table.shape[0]-1):table.shape[0]]\n",
    "    table3 = table2[['loss', 'accuracy', 'precision', 'recall', 'AUC', 'prc', 'val_loss', 'val_accuracy', 'val_precision', 'val_recall', 'val_AUC', 'val_prc']]\n",
    "    table3 = table3.reset_index(drop=True)\n",
    "    return(table3)\n",
    "    "
   ]
  },
  {
   "cell_type": "code",
   "execution_count": 124,
   "id": "45aca971",
   "metadata": {},
   "outputs": [],
   "source": [
    "tabler_test = Tabler(model1_history)"
   ]
  },
  {
   "cell_type": "code",
   "execution_count": 125,
   "id": "ffaeab97",
   "metadata": {},
   "outputs": [
    {
     "data": {
      "text/html": [
       "<div>\n",
       "<style scoped>\n",
       "    .dataframe tbody tr th:only-of-type {\n",
       "        vertical-align: middle;\n",
       "    }\n",
       "\n",
       "    .dataframe tbody tr th {\n",
       "        vertical-align: top;\n",
       "    }\n",
       "\n",
       "    .dataframe thead th {\n",
       "        text-align: right;\n",
       "    }\n",
       "</style>\n",
       "<table border=\"1\" class=\"dataframe\">\n",
       "  <thead>\n",
       "    <tr style=\"text-align: right;\">\n",
       "      <th></th>\n",
       "      <th>loss</th>\n",
       "      <th>accuracy</th>\n",
       "      <th>precision</th>\n",
       "      <th>recall</th>\n",
       "      <th>AUC</th>\n",
       "      <th>prc</th>\n",
       "      <th>val_loss</th>\n",
       "      <th>val_accuracy</th>\n",
       "      <th>val_precision</th>\n",
       "      <th>val_recall</th>\n",
       "      <th>val_AUC</th>\n",
       "      <th>val_prc</th>\n",
       "    </tr>\n",
       "  </thead>\n",
       "  <tbody>\n",
       "    <tr>\n",
       "      <th>0</th>\n",
       "      <td>1.134965</td>\n",
       "      <td>0.634324</td>\n",
       "      <td>0.053898</td>\n",
       "      <td>0.774616</td>\n",
       "      <td>0.763855</td>\n",
       "      <td>0.073975</td>\n",
       "      <td>0.580277</td>\n",
       "      <td>0.638409</td>\n",
       "      <td>0.05412</td>\n",
       "      <td>0.768788</td>\n",
       "      <td>0.762502</td>\n",
       "      <td>0.073144</td>\n",
       "    </tr>\n",
       "  </tbody>\n",
       "</table>\n",
       "</div>"
      ],
      "text/plain": [
       "       loss  accuracy  precision    recall       AUC       prc  val_loss  \\\n",
       "0  1.134965  0.634324   0.053898  0.774616  0.763855  0.073975  0.580277   \n",
       "\n",
       "   val_accuracy  val_precision  val_recall   val_AUC   val_prc  \n",
       "0      0.638409        0.05412    0.768788  0.762502  0.073144  "
      ]
     },
     "execution_count": 125,
     "metadata": {},
     "output_type": "execute_result"
    }
   ],
   "source": [
    "tabler_test"
   ]
  },
  {
   "cell_type": "code",
   "execution_count": 126,
   "id": "2cd3a6a5",
   "metadata": {},
   "outputs": [],
   "source": [
    "model_hist_list = [model1_history,\n",
    "                  model2_history,\n",
    "                  model3_history,\n",
    "                  model4_history,\n",
    "                  model5_history,\n",
    "                  model6_history,\n",
    "                  model7_history,\n",
    "                  model8_history]"
   ]
  },
  {
   "cell_type": "code",
   "execution_count": 127,
   "id": "d8caa079",
   "metadata": {},
   "outputs": [],
   "source": [
    "end_table = Tabler(model1_history)\n",
    "\n",
    "for i in range(len(model_hist_list)-1):\n",
    "    table_buffer = Tabler(model_hist_list[i+1])\n",
    "    end_table = end_table.append(table_buffer)\n",
    "end_table = end_table.reset_index(drop=True)"
   ]
  },
  {
   "cell_type": "code",
   "execution_count": 128,
   "id": "676869eb",
   "metadata": {},
   "outputs": [
    {
     "data": {
      "text/html": [
       "<div>\n",
       "<style scoped>\n",
       "    .dataframe tbody tr th:only-of-type {\n",
       "        vertical-align: middle;\n",
       "    }\n",
       "\n",
       "    .dataframe tbody tr th {\n",
       "        vertical-align: top;\n",
       "    }\n",
       "\n",
       "    .dataframe thead th {\n",
       "        text-align: right;\n",
       "    }\n",
       "</style>\n",
       "<table border=\"1\" class=\"dataframe\">\n",
       "  <thead>\n",
       "    <tr style=\"text-align: right;\">\n",
       "      <th></th>\n",
       "      <th>loss</th>\n",
       "      <th>accuracy</th>\n",
       "      <th>precision</th>\n",
       "      <th>recall</th>\n",
       "      <th>AUC</th>\n",
       "      <th>prc</th>\n",
       "      <th>val_loss</th>\n",
       "      <th>val_accuracy</th>\n",
       "      <th>val_precision</th>\n",
       "      <th>val_recall</th>\n",
       "      <th>val_AUC</th>\n",
       "      <th>val_prc</th>\n",
       "    </tr>\n",
       "  </thead>\n",
       "  <tbody>\n",
       "    <tr>\n",
       "      <th>0</th>\n",
       "      <td>1.134965</td>\n",
       "      <td>0.634324</td>\n",
       "      <td>0.053898</td>\n",
       "      <td>0.774616</td>\n",
       "      <td>0.763855</td>\n",
       "      <td>0.073975</td>\n",
       "      <td>0.580277</td>\n",
       "      <td>0.638409</td>\n",
       "      <td>0.054120</td>\n",
       "      <td>0.768788</td>\n",
       "      <td>0.762502</td>\n",
       "      <td>0.073144</td>\n",
       "    </tr>\n",
       "    <tr>\n",
       "      <th>1</th>\n",
       "      <td>0.110141</td>\n",
       "      <td>0.973551</td>\n",
       "      <td>0.494949</td>\n",
       "      <td>0.000049</td>\n",
       "      <td>0.763365</td>\n",
       "      <td>0.075667</td>\n",
       "      <td>0.110372</td>\n",
       "      <td>0.973544</td>\n",
       "      <td>0.473684</td>\n",
       "      <td>0.000095</td>\n",
       "      <td>0.762101</td>\n",
       "      <td>0.074759</td>\n",
       "    </tr>\n",
       "    <tr>\n",
       "      <th>2</th>\n",
       "      <td>1.135125</td>\n",
       "      <td>0.634015</td>\n",
       "      <td>0.053854</td>\n",
       "      <td>0.774579</td>\n",
       "      <td>0.763716</td>\n",
       "      <td>0.073842</td>\n",
       "      <td>0.553656</td>\n",
       "      <td>0.663881</td>\n",
       "      <td>0.056034</td>\n",
       "      <td>0.738645</td>\n",
       "      <td>0.762026</td>\n",
       "      <td>0.072214</td>\n",
       "    </tr>\n",
       "    <tr>\n",
       "      <th>3</th>\n",
       "      <td>1.135058</td>\n",
       "      <td>0.634273</td>\n",
       "      <td>0.053917</td>\n",
       "      <td>0.775012</td>\n",
       "      <td>0.763701</td>\n",
       "      <td>0.073808</td>\n",
       "      <td>0.567241</td>\n",
       "      <td>0.653615</td>\n",
       "      <td>0.055275</td>\n",
       "      <td>0.751504</td>\n",
       "      <td>0.762470</td>\n",
       "      <td>0.073536</td>\n",
       "    </tr>\n",
       "    <tr>\n",
       "      <th>4</th>\n",
       "      <td>1.118546</td>\n",
       "      <td>0.634820</td>\n",
       "      <td>0.054652</td>\n",
       "      <td>0.785599</td>\n",
       "      <td>0.770520</td>\n",
       "      <td>0.075930</td>\n",
       "      <td>0.591466</td>\n",
       "      <td>0.633384</td>\n",
       "      <td>0.054217</td>\n",
       "      <td>0.781875</td>\n",
       "      <td>0.767611</td>\n",
       "      <td>0.075812</td>\n",
       "    </tr>\n",
       "    <tr>\n",
       "      <th>5</th>\n",
       "      <td>1.156419</td>\n",
       "      <td>0.627332</td>\n",
       "      <td>0.052401</td>\n",
       "      <td>0.766022</td>\n",
       "      <td>0.753664</td>\n",
       "      <td>0.069609</td>\n",
       "      <td>0.591227</td>\n",
       "      <td>0.634154</td>\n",
       "      <td>0.052863</td>\n",
       "      <td>0.758318</td>\n",
       "      <td>0.752992</td>\n",
       "      <td>0.069504</td>\n",
       "    </tr>\n",
       "    <tr>\n",
       "      <th>6</th>\n",
       "      <td>1.279767</td>\n",
       "      <td>0.623353</td>\n",
       "      <td>0.044640</td>\n",
       "      <td>0.648815</td>\n",
       "      <td>0.670944</td>\n",
       "      <td>0.050213</td>\n",
       "      <td>0.661958</td>\n",
       "      <td>0.622571</td>\n",
       "      <td>0.044633</td>\n",
       "      <td>0.650145</td>\n",
       "      <td>0.670926</td>\n",
       "      <td>0.050207</td>\n",
       "    </tr>\n",
       "    <tr>\n",
       "      <th>7</th>\n",
       "      <td>0.118426</td>\n",
       "      <td>0.973553</td>\n",
       "      <td>0.000000</td>\n",
       "      <td>0.000000</td>\n",
       "      <td>0.655253</td>\n",
       "      <td>0.047786</td>\n",
       "      <td>0.118397</td>\n",
       "      <td>0.973544</td>\n",
       "      <td>0.000000</td>\n",
       "      <td>0.000000</td>\n",
       "      <td>0.655690</td>\n",
       "      <td>0.047797</td>\n",
       "    </tr>\n",
       "  </tbody>\n",
       "</table>\n",
       "</div>"
      ],
      "text/plain": [
       "       loss  accuracy  precision    recall       AUC       prc  val_loss  \\\n",
       "0  1.134965  0.634324   0.053898  0.774616  0.763855  0.073975  0.580277   \n",
       "1  0.110141  0.973551   0.494949  0.000049  0.763365  0.075667  0.110372   \n",
       "2  1.135125  0.634015   0.053854  0.774579  0.763716  0.073842  0.553656   \n",
       "3  1.135058  0.634273   0.053917  0.775012  0.763701  0.073808  0.567241   \n",
       "4  1.118546  0.634820   0.054652  0.785599  0.770520  0.075930  0.591466   \n",
       "5  1.156419  0.627332   0.052401  0.766022  0.753664  0.069609  0.591227   \n",
       "6  1.279767  0.623353   0.044640  0.648815  0.670944  0.050213  0.661958   \n",
       "7  0.118426  0.973553   0.000000  0.000000  0.655253  0.047786  0.118397   \n",
       "\n",
       "   val_accuracy  val_precision  val_recall   val_AUC   val_prc  \n",
       "0      0.638409       0.054120    0.768788  0.762502  0.073144  \n",
       "1      0.973544       0.473684    0.000095  0.762101  0.074759  \n",
       "2      0.663881       0.056034    0.738645  0.762026  0.072214  \n",
       "3      0.653615       0.055275    0.751504  0.762470  0.073536  \n",
       "4      0.633384       0.054217    0.781875  0.767611  0.075812  \n",
       "5      0.634154       0.052863    0.758318  0.752992  0.069504  \n",
       "6      0.622571       0.044633    0.650145  0.670926  0.050207  \n",
       "7      0.973544       0.000000    0.000000  0.655690  0.047797  "
      ]
     },
     "execution_count": 128,
     "metadata": {},
     "output_type": "execute_result"
    }
   ],
   "source": [
    "end_table"
   ]
  },
  {
   "cell_type": "code",
   "execution_count": null,
   "id": "53ff5db8",
   "metadata": {},
   "outputs": [],
   "source": [
    "#NN_model = Sequential()\n",
    "#NN_model.add(Dense(512, input_dim=(train_signals.shape[1]), activation='relu'))\n",
    "#NN_model.add(Dense(256, activation='relu'))\n",
    "#NN_model.add(Dense(128, activation='relu'))\n",
    "#NN_model.add(Dense(64, activation='relu'))\n",
    "#NN_model.add(Dense(1, activation='sigmoid'))"
   ]
  },
  {
   "cell_type": "code",
   "execution_count": null,
   "id": "00c17a11",
   "metadata": {},
   "outputs": [],
   "source": [
    "#NN_model.fit(train_signals, train_classes, epochs=10, batch_size=32)"
   ]
  },
  {
   "cell_type": "code",
   "execution_count": null,
   "id": "6e021d1b",
   "metadata": {},
   "outputs": [],
   "source": [
    "#NN_model.save('/bph/puredata1/bioinfdata/user/phikie/Big_data_set_creation/Neural_networks/NN_1_B32_adam.h5')"
   ]
  },
  {
   "cell_type": "code",
   "execution_count": null,
   "id": "ac628c20",
   "metadata": {},
   "outputs": [],
   "source": [
    "#NN_model_load = keras.models.load_model(\"/bph/puredata1/bioinfdata/user/phikie/Big_data_set_creation/Neural_networks/NN_1_B32_adam.h5\")"
   ]
  },
  {
   "cell_type": "code",
   "execution_count": null,
   "id": "5753b1c0",
   "metadata": {},
   "outputs": [],
   "source": [
    "#val_pred = (NN_model_load.predict(val_signals) > 0.5).astype('int32')"
   ]
  },
  {
   "cell_type": "code",
   "execution_count": null,
   "id": "15f9bf7a",
   "metadata": {},
   "outputs": [],
   "source": [
    "#Confus_analyzer(val_classes, val_pred)"
   ]
  },
  {
   "cell_type": "code",
   "execution_count": null,
   "id": "2aa21a65",
   "metadata": {},
   "outputs": [],
   "source": [
    "#TN, FP, FN, TP = confusion_matrix(val_classes, val_pred).ravel()"
   ]
  },
  {
   "cell_type": "code",
   "execution_count": null,
   "id": "c0ced29f",
   "metadata": {},
   "outputs": [],
   "source": []
  },
  {
   "cell_type": "code",
   "execution_count": 67,
   "id": "8760af72",
   "metadata": {},
   "outputs": [
    {
     "data": {
      "image/png": "[encoded data removed]",
      "text/plain": [
       "<Figure size 432x288 with 1 Axes>"
      ]
     },
     "metadata": {
      "needs_background": "light"
     },
     "output_type": "display_data"
    }
   ],
   "source": [
    "%matplotlib inline\n",
    "\n",
    "x = np.linspace(0, 69, 69)\n",
    "y = val_signals[100020]\n",
    "\n",
    "plt.plot(x, y, 'o', color='black');"
   ]
  },
  {
   "cell_type": "code",
   "execution_count": null,
   "id": "d8fedfbe",
   "metadata": {},
   "outputs": [],
   "source": []
  }
 ],
 "metadata": {
  "kernelspec": {
   "display_name": "Python 3",
   "language": "python",
   "name": "python3"
  },
  "language_info": {
   "codemirror_mode": {
    "name": "ipython",
    "version": 3
   },
   "file_extension": ".py",
   "mimetype": "text/x-python",
   "name": "python",
   "nbconvert_exporter": "python",
   "pygments_lexer": "ipython3",
   "version": "3.9.6"
  }
 },
 "nbformat": 4,
 "nbformat_minor": 5
}
