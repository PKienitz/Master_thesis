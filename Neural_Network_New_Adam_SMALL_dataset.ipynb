{
 "cells": [
  {
   "cell_type": "code",
   "execution_count": 1,
   "id": "79a37adc",
   "metadata": {},
   "outputs": [],
   "source": [
    "import pandas as pd\n",
    "import numpy as np\n",
    "import matplotlib.pyplot as plt\n",
    "import sklearn\n",
    "import scipy\n",
    "from skimage import color\n",
    "import tempfile\n",
    "import os\n",
    "from timeit import default_timer as timer\n",
    "from tempfile import TemporaryFile\n",
    "from sklearn.gaussian_process import GaussianProcessRegressor\n",
    "from sklearn.gaussian_process.kernels import RBF\n",
    "from sklearn.gaussian_process.kernels import WhiteKernel\n",
    "from sklearn.gaussian_process.kernels import ExpSineSquared\n",
    "import decimal\n",
    "from decimal import *\n",
    "from sklearn.gaussian_process.kernels import ConstantKernel\n",
    "from numpy import loadtxt\n",
    "from keras.models import Sequential\n",
    "from keras.layers import Dense\n",
    "import tensorflow as tf\n",
    "from sklearn.metrics import confusion_matrix\n",
    "import keras\n",
    "from sklearn.metrics import roc_auc_score\n",
    "import pickle\n"
   ]
  },
  {
   "cell_type": "code",
   "execution_count": 2,
   "id": "e65443e7",
   "metadata": {},
   "outputs": [],
   "source": [
    "import h5py\n",
    "import matplotlib as mpl"
   ]
  },
  {
   "cell_type": "code",
   "execution_count": 3,
   "id": "261135ee",
   "metadata": {},
   "outputs": [],
   "source": [
    "colors = plt.rcParams['axes.prop_cycle'].by_key()['color']"
   ]
  },
  {
   "cell_type": "code",
   "execution_count": 4,
   "id": "478f790a",
   "metadata": {},
   "outputs": [
    {
     "data": {
      "text/plain": [
       "[PhysicalDevice(name='/physical_device:GPU:0', device_type='GPU')]"
      ]
     },
     "execution_count": 4,
     "metadata": {},
     "output_type": "execute_result"
    }
   ],
   "source": [
    "tf.config.list_physical_devices('GPU')"
   ]
  },
  {
   "cell_type": "code",
   "execution_count": 5,
   "id": "b41d755f",
   "metadata": {},
   "outputs": [],
   "source": [
    "def Confus_analyzer(class_array, pred_array):\n",
    "    \n",
    "    TN, FP, FN, TP = confusion_matrix(class_array, val_pred).ravel()\n",
    "    \n",
    "    Accuracy = ((TP+TN)/(TP+TN+FP+FN))\n",
    "    print('Accuracy: ' + str(Accuracy))\n",
    "    #Sensitivity or Recall; rate of TP on all positives\n",
    "    Recall = ((TP)/(TP+FN))\n",
    "    print('Recall: ' + str(Recall))\n",
    "    Misclass = ((FP+FN)/(TP+TN+FP+FN))\n",
    "    print('Misclassifications: ' + str(Misclass))\n",
    "    #Percentage of correct TP predictions\n",
    "    Precision = ((TP)/(TP+FP))\n",
    "    print('Precision: ' + str(Precision))\n",
    "    #F1 score\n",
    "    F1_score = 2*((Precision*Recall)/(Precision+Recall))\n",
    "    print('F1_Score' + str(F1_score))\n",
    "    ROC_AUC = roc_auc_score(class_array, pred_array)\n",
    "    print('ROC_AUC: ' + str(ROC_AUC))\n",
    "    \n",
    "    \n",
    "    return()"
   ]
  },
  {
   "cell_type": "code",
   "execution_count": 6,
   "id": "145ee968",
   "metadata": {},
   "outputs": [],
   "source": [
    "def Dataframe_processor(DF_path_1, DF_path_2, appendmode=False):\n",
    "    \n",
    "    if appendmode == True:\n",
    "    \n",
    "        DF_1 = pickle.load(open(DF_path_1, 'rb'))\n",
    "        DF_2 = pickle.load(open(DF_path_2, 'rb'))\n",
    "\n",
    "\n",
    "        DF_C = DF_1.append(DF_2)\n",
    "        DF_C = DF_C.reset_index(drop=True)\n",
    "\n",
    "\n",
    "        DF_C_signals = DF_C.iloc[:, 0:(DF_C.shape[1]-1)]\n",
    "        DF_C_signals = DF_C_signals.to_numpy(copy=True)\n",
    "\n",
    "\n",
    "        DF_C_classes = DF_C.iloc[:, (DF_C.shape[1]-1):DF_C.shape[1]]\n",
    "        DF_C_classes = DF_C_classes.to_numpy(copy=True)\n",
    "    \n",
    "        return(DF_C_signals, DF_C_classes)\n",
    "    \n",
    "    if appendmode == False:\n",
    "        \n",
    "        DF_C = pickle.load(open(DF_path_1, 'rb'))\n",
    "        \n",
    "        DF_C_signals = DF_C.iloc[:, 0:(DF_C.shape[1]-1)]\n",
    "        DF_C_signals = DF_C_signals.to_numpy(copy=True)\n",
    "\n",
    "\n",
    "        DF_C_classes = DF_C.iloc[:, (DF_C.shape[1]-1):DF_C.shape[1]]\n",
    "        DF_C_classes = DF_C_classes.to_numpy(copy=True)\n",
    "    \n",
    "        return(DF_C_signals, DF_C_classes)\n",
    "    "
   ]
  },
  {
   "cell_type": "code",
   "execution_count": 7,
   "id": "e46b81d2",
   "metadata": {},
   "outputs": [],
   "source": [
    "#pickle_off = open(\"Emp.pickle\",\"rb\")\n",
    "#emp = pickle.load(pickle_off)\n",
    "#print(emp)"
   ]
  },
  {
   "cell_type": "code",
   "execution_count": 8,
   "id": "e20edc61",
   "metadata": {},
   "outputs": [],
   "source": [
    "train_df_22 ='/bph/puredata1/bioinfdata/user/phikie/Big_data_set_creation/Split_dfs/P22/P22_train_SMALL.pkl'\n",
    "train_df_109C ='/bph/puredata1/bioinfdata/user/phikie/Big_data_set_creation/Split_dfs/P109C/P109_train_SMALL.pkl'\n",
    "val_df_22 = '/bph/puredata1/bioinfdata/user/phikie/Big_data_set_creation/Split_dfs/P22/P22_val_SMALL.pkl'\n",
    "val_df_109 = '/bph/puredata1/bioinfdata/user/phikie/Big_data_set_creation/Split_dfs/P109C/P109_val_SMALL.pkl'\n",
    "test_df_22 = '/bph/puredata1/bioinfdata/user/phikie/Big_data_set_creation/Split_dfs/P22/P22_test_SMALL.pkl'\n",
    "test_df_109 = '/bph/puredata1/bioinfdata/user/phikie/Big_data_set_creation/Split_dfs/P109C/P109_test_SMALL.pkl'"
   ]
  },
  {
   "cell_type": "code",
   "execution_count": 9,
   "id": "33126aa2",
   "metadata": {},
   "outputs": [],
   "source": [
    "#tr_sig_109, tr_cl_109 = Dataframe_processor(train_df_109C, None, appendmode=False)"
   ]
  },
  {
   "cell_type": "code",
   "execution_count": 10,
   "id": "7b9a355a",
   "metadata": {},
   "outputs": [],
   "source": [
    "#tr_sig_109 = np.nan_to_num(tr_sig_109)"
   ]
  },
  {
   "cell_type": "code",
   "execution_count": 11,
   "id": "5565c7fb",
   "metadata": {},
   "outputs": [],
   "source": [
    "#tr_sig_22, tr_cl_22 = Dataframe_processor(train_df_22, None, appendmode=False)"
   ]
  },
  {
   "cell_type": "code",
   "execution_count": null,
   "id": "7470d792",
   "metadata": {},
   "outputs": [],
   "source": []
  },
  {
   "cell_type": "code",
   "execution_count": 12,
   "id": "a9ccf4ce",
   "metadata": {},
   "outputs": [],
   "source": [
    "train_signals, train_classes = Dataframe_processor(train_df_22, train_df_109C, appendmode=True)"
   ]
  },
  {
   "cell_type": "code",
   "execution_count": 13,
   "id": "a9f0cc36",
   "metadata": {},
   "outputs": [],
   "source": [
    "val_signals, val_classes = Dataframe_processor(val_df_22, val_df_109, appendmode=True)"
   ]
  },
  {
   "cell_type": "code",
   "execution_count": 14,
   "id": "0b95a3df",
   "metadata": {},
   "outputs": [],
   "source": [
    "test_signals, test_classes = Dataframe_processor(test_df_22, test_df_109, appendmode=True)"
   ]
  },
  {
   "cell_type": "code",
   "execution_count": 15,
   "id": "b5a86788",
   "metadata": {},
   "outputs": [],
   "source": [
    "train_signals = np.nan_to_num(train_signals)\n",
    "val_signals = np.nan_to_num(val_signals)\n",
    "test_signals = np.nan_to_num(test_signals)\n"
   ]
  },
  {
   "cell_type": "code",
   "execution_count": null,
   "id": "56faa9e0",
   "metadata": {},
   "outputs": [],
   "source": []
  },
  {
   "cell_type": "code",
   "execution_count": 16,
   "id": "07d2b7c1",
   "metadata": {},
   "outputs": [],
   "source": [
    "uniques, occurrences = np.unique(train_classes, return_counts=True)\n",
    "ratio = occurrences[1]/(occurrences[0]+occurrences[1])"
   ]
  },
  {
   "cell_type": "code",
   "execution_count": 17,
   "id": "6dbe5777",
   "metadata": {},
   "outputs": [],
   "source": [
    "class_weight_1 = 1/ratio"
   ]
  },
  {
   "cell_type": "code",
   "execution_count": 18,
   "id": "4bb656c6",
   "metadata": {},
   "outputs": [
    {
     "data": {
      "text/plain": [
       "235.41792666099056"
      ]
     },
     "execution_count": 18,
     "metadata": {},
     "output_type": "execute_result"
    }
   ],
   "source": [
    "class_weight_1"
   ]
  },
  {
   "cell_type": "code",
   "execution_count": 19,
   "id": "ef9ab415",
   "metadata": {},
   "outputs": [],
   "source": [
    "Metrics = [\n",
    "    keras.metrics.TruePositives(name='tp'),\n",
    "    keras.metrics.TrueNegatives(name='tn'),\n",
    "    keras.metrics.FalsePositives(name='fp'),\n",
    "    keras.metrics.FalseNegatives(name='fn'),\n",
    "    keras.metrics.BinaryAccuracy(name='accuracy'),\n",
    "    keras.metrics.Precision(name='precision'),\n",
    "    keras.metrics.Recall(name='recall'),\n",
    "    keras.metrics.AUC(name='AUC'),\n",
    "    keras.metrics.AUC(name='prc', curve='PR'),\n",
    "]\n",
    "\n"
   ]
  },
  {
   "cell_type": "code",
   "execution_count": 20,
   "id": "00855bff",
   "metadata": {},
   "outputs": [],
   "source": [
    "def Modelbuilder(train_signals,\n",
    "                 metrics=Metrics,\n",
    "                 learning_rate=1e-4):\n",
    "\n",
    "    \n",
    "    model = keras.Sequential([\n",
    "        keras.layers.Dense(\n",
    "            512, activation='relu',\n",
    "            input_shape=(train_signals.shape[1],)),\n",
    "        keras.layers.Dense(256, activation='relu'),\n",
    "        keras.layers.Dense(128, activation='relu'),\n",
    "        keras.layers.Dense(64, activation='relu'),\n",
    "        keras.layers.Dense(1, activation='sigmoid')])\n",
    "    model.compile(\n",
    "        optimizer = keras.optimizers.Adam(learning_rate=1e-4),\n",
    "        loss = keras.losses.BinaryCrossentropy(),\n",
    "        metrics=metrics)\n",
    "    \n",
    "    return(model)"
   ]
  },
  {
   "cell_type": "code",
   "execution_count": 21,
   "id": "e633160a",
   "metadata": {},
   "outputs": [],
   "source": [
    "def Modelbuilder_ada(train_signals,\n",
    "                 metrics=Metrics,\n",
    "                 learning_rate=1e-4):\n",
    "\n",
    "    \n",
    "    model = keras.Sequential([\n",
    "        keras.layers.Dense(\n",
    "            512, activation='relu',\n",
    "            input_shape=(train_signals.shape[1],)),\n",
    "        keras.layers.Dense(256, activation='relu'),\n",
    "        keras.layers.Dense(128, activation='relu'),\n",
    "        keras.layers.Dense(64, activation='relu'),\n",
    "        keras.layers.Dense(1, activation='sigmoid')])\n",
    "    model.compile(\n",
    "        optimizer = keras.optimizers.Adagrad(learning_rate=1e-4),\n",
    "        loss = keras.losses.BinaryCrossentropy(),\n",
    "        metrics=metrics)\n",
    "    \n",
    "    return(model)"
   ]
  },
  {
   "cell_type": "code",
   "execution_count": null,
   "id": "3b722ae4",
   "metadata": {},
   "outputs": [],
   "source": []
  },
  {
   "cell_type": "code",
   "execution_count": 22,
   "id": "a10ba3b9",
   "metadata": {},
   "outputs": [],
   "source": [
    "model1 = Modelbuilder(train_signals, metrics=Metrics, learning_rate=1e-4)\n",
    "model2 = Modelbuilder(train_signals, metrics=Metrics, learning_rate=1e-4)\n",
    "model3 = Modelbuilder(train_signals, metrics=Metrics, learning_rate=1e-5)\n",
    "model4 = Modelbuilder(train_signals, metrics=Metrics, learning_rate=1e-6)\n",
    "model5 = Modelbuilder(train_signals, metrics=Metrics, learning_rate=1e-4)\n",
    "model6 = Modelbuilder(train_signals, metrics=Metrics, learning_rate=1e-4)\n",
    "model7 = Modelbuilder_ada(train_signals, metrics=Metrics, learning_rate=1e-4)\n",
    "model8 = Modelbuilder_ada(train_signals, metrics=Metrics, learning_rate=1e-4)\n",
    "model9 = Modelbuilder_ada(train_signals, metrics=Metrics, learning_rate=1e-4)\n",
    "model10 = Modelbuilder_ada(train_signals, metrics=Metrics, learning_rate=1e-4)\n"
   ]
  },
  {
   "cell_type": "code",
   "execution_count": null,
   "id": "747e5697",
   "metadata": {},
   "outputs": [
    {
     "name": "stdout",
     "output_type": "stream",
     "text": [
      "Epoch 1/5\n",
      "62646/62646 [==============================] - 358s 6ms/step - loss: 1.2573 - tp: 11957.4651 - tn: 2425139.4204 - fp: 1567232.3201 - fn: 5142.7886 - accuracy: 0.5996 - precision: 0.0073 - recall: 0.6854 - AUC: 0.6977 - prc: 0.0097 - val_loss: 0.6107 - val_tp: 6902.0000 - val_tn: 1509750.0000 - val_fp: 771604.0000 - val_fn: 2812.0000 - val_accuracy: 0.6620 - val_precision: 0.0089 - val_recall: 0.7105 - val_AUC: 0.7564 - val_prc: 0.0148\n",
      "Epoch 2/5\n",
      "62646/62646 [==============================] - 349s 6ms/step - loss: 1.1525 - tp: 12105.9708 - tn: 2704445.1034 - fp: 1288028.6854 - fn: 4892.2347 - accuracy: 0.6770 - precision: 0.0093 - recall: 0.7141 - AUC: 0.7627 - prc: 0.0157 - val_loss: 0.6734 - val_tp: 7568.0000 - val_tn: 1405593.0000 - val_fp: 875761.0000 - val_fn: 2146.0000 - val_accuracy: 0.6168 - val_precision: 0.0086 - val_recall: 0.7791 - val_AUC: 0.7695 - val_prc: 0.0173\n",
      "Epoch 3/5\n",
      "41613/62646 [==================>...........] - ETA: 1:33 - loss: 1.1208 - tp: 8010.5716 - tn: 1827505.2324 - fp: 824626.9373 - fn: 3153.2588 - accuracy: 0.6890 - precision: 0.0096 - recall: 0.7179 - AUC: 0.7742 - prc: 0.0177"
     ]
    }
   ],
   "source": [
    "#Standard reference\n",
    "model1_history = model1.fit(\n",
    "    train_signals,\n",
    "    train_classes,\n",
    "    epochs = 5,\n",
    "    batch_size = 128,\n",
    "    class_weight={0:1, 1:class_weight_1},\n",
    "    validation_data=(val_signals, val_classes))"
   ]
  },
  {
   "cell_type": "code",
   "execution_count": null,
   "id": "d573d6cb",
   "metadata": {},
   "outputs": [],
   "source": [
    "#No class weights\n",
    "model2_history = model2.fit(\n",
    "    train_signals,\n",
    "    train_classes,\n",
    "    epochs = 5,\n",
    "    batch_size = 128,\n",
    "    validation_data=(val_signals, val_classes))"
   ]
  },
  {
   "cell_type": "code",
   "execution_count": null,
   "id": "2307dca5",
   "metadata": {},
   "outputs": [],
   "source": [
    "#Learning rate 1e-5\n",
    "model3_history = model3.fit(\n",
    "    train_signals,\n",
    "    train_classes,\n",
    "    epochs = 5,\n",
    "    batch_size = 128,\n",
    "    class_weight={0:1, 1:class_weight_1},\n",
    "    validation_data=(val_signals, val_classes))"
   ]
  },
  {
   "cell_type": "code",
   "execution_count": null,
   "id": "3af7de4a",
   "metadata": {},
   "outputs": [],
   "source": [
    "#Learning rate 1e-6\n",
    "model4_history = model4.fit(\n",
    "    train_signals,\n",
    "    train_classes,\n",
    "    epochs = 5,\n",
    "    batch_size = 128,\n",
    "    class_weight={0:1, 1:class_weight_1},\n",
    "    validation_data=(val_signals, val_classes))"
   ]
  },
  {
   "cell_type": "code",
   "execution_count": null,
   "id": "1dc5b88d",
   "metadata": {},
   "outputs": [],
   "source": [
    "#Batch size 512\n",
    "model5_history = model5.fit(\n",
    "    train_signals,\n",
    "    train_classes,\n",
    "    epochs = 5,\n",
    "    batch_size = 512,\n",
    "    class_weight={0:1, 1:class_weight_1},\n",
    "    validation_data=(val_signals, val_classes))"
   ]
  },
  {
   "cell_type": "code",
   "execution_count": null,
   "id": "f42c1ee6",
   "metadata": {},
   "outputs": [],
   "source": [
    "#Batch size 64\n",
    "model6_history = model6.fit(\n",
    "    train_signals,\n",
    "    train_classes,\n",
    "    epochs = 5,\n",
    "    batch_size = 64,\n",
    "    class_weight={0:1, 1:class_weight_1},\n",
    "    validation_data=(val_signals, val_classes))"
   ]
  },
  {
   "cell_type": "code",
   "execution_count": null,
   "id": "55084f20",
   "metadata": {},
   "outputs": [],
   "source": [
    "#Adagrad optimizer\n",
    "model7_history = model7.fit(\n",
    "    train_signals,\n",
    "    train_classes,\n",
    "    epochs = 5,\n",
    "    batch_size = 128,\n",
    "    class_weight={0:1, 1:class_weight_1},\n",
    "    validation_data=(val_signals, val_classes))"
   ]
  },
  {
   "cell_type": "code",
   "execution_count": null,
   "id": "aeb1028d",
   "metadata": {},
   "outputs": [],
   "source": [
    "#Adagrad optimizer, no class weights\n",
    "model8_history = model8.fit(\n",
    "    train_signals,\n",
    "    train_classes,\n",
    "    epochs = 5,\n",
    "    batch_size = 128,\n",
    "    validation_data=(val_signals, val_classes))"
   ]
  },
  {
   "cell_type": "code",
   "execution_count": null,
   "id": "3161f5b0",
   "metadata": {},
   "outputs": [],
   "source": [
    "np.save('/bph/puredata1/bioinfdata/user/phikie/Neural_network_results/model1_history_SMALL.npy', model1_history.history)"
   ]
  },
  {
   "cell_type": "code",
   "execution_count": null,
   "id": "f3a292d5",
   "metadata": {},
   "outputs": [],
   "source": [
    "np.save('/bph/puredata1/bioinfdata/user/phikie/Neural_network_results/model2_history_SMALL.npy', model2_history.history)"
   ]
  },
  {
   "cell_type": "code",
   "execution_count": null,
   "id": "442af84e",
   "metadata": {},
   "outputs": [],
   "source": [
    "np.save('/bph/puredata1/bioinfdata/user/phikie/Neural_network_results/model3_history_SMALL.npy', model3_history.history)"
   ]
  },
  {
   "cell_type": "code",
   "execution_count": null,
   "id": "cf55020f",
   "metadata": {},
   "outputs": [],
   "source": [
    "np.save('/bph/puredata1/bioinfdata/user/phikie/Neural_network_results/model4_history_SMALL.npy', model4_history.history)"
   ]
  },
  {
   "cell_type": "code",
   "execution_count": null,
   "id": "676bbeff",
   "metadata": {},
   "outputs": [],
   "source": [
    "np.save('/bph/puredata1/bioinfdata/user/phikie/Neural_network_results/model5_history_SMALL.npy', model5_history.history)"
   ]
  },
  {
   "cell_type": "code",
   "execution_count": null,
   "id": "c78a2252",
   "metadata": {},
   "outputs": [],
   "source": [
    "np.save('/bph/puredata1/bioinfdata/user/phikie/Neural_network_results/model6_history_SMALL.npy', model6_history.history)"
   ]
  },
  {
   "cell_type": "code",
   "execution_count": null,
   "id": "d3f408fd",
   "metadata": {},
   "outputs": [],
   "source": [
    "np.save('/bph/puredata1/bioinfdata/user/phikie/Neural_network_results/model7_history_SMALL.npy', model7_history.history)"
   ]
  },
  {
   "cell_type": "code",
   "execution_count": null,
   "id": "9c16d6c2",
   "metadata": {},
   "outputs": [],
   "source": [
    "np.save('/bph/puredata1/bioinfdata/user/phikie/Neural_network_results/model8_history_SMALL.npy', model8_history.history)"
   ]
  },
  {
   "cell_type": "code",
   "execution_count": null,
   "id": "f4a7be2d",
   "metadata": {},
   "outputs": [],
   "source": [
    "#Example code to load np.history\n",
    "#history1=np.load('history1.npy',allow_pickle='TRUE').item()\n"
   ]
  },
  {
   "cell_type": "code",
   "execution_count": null,
   "id": "2ff60061",
   "metadata": {},
   "outputs": [],
   "source": [
    "NN_model.save('/bph/puredata1/bioinfdata/user/phikie/Big_data_set_creation/Neural_networks/NN_1_B32_adam_SMALL.h5')"
   ]
  },
  {
   "cell_type": "code",
   "execution_count": null,
   "id": "30722756",
   "metadata": {},
   "outputs": [],
   "source": [
    "def Modelsaver(NN_model, path_and_name):\n",
    "    \n",
    "    NN_model.save(path_and_name + '.h5')"
   ]
  },
  {
   "cell_type": "code",
   "execution_count": null,
   "id": "8c8d07a3",
   "metadata": {},
   "outputs": [],
   "source": [
    "Modelsaver(\n",
    "    model1,\n",
    "    '/bph/puredata1/bioinfdata/user/phikie/Neural_network_results/model1_SMALL')"
   ]
  },
  {
   "cell_type": "code",
   "execution_count": null,
   "id": "36707a6f",
   "metadata": {},
   "outputs": [],
   "source": [
    "Modelsaver(\n",
    "    model2,\n",
    "    '/bph/puredata1/bioinfdata/user/phikie/Neural_network_results/model2_SMALL')"
   ]
  },
  {
   "cell_type": "code",
   "execution_count": null,
   "id": "616d7aa3",
   "metadata": {},
   "outputs": [],
   "source": [
    "Modelsaver(\n",
    "    model3,\n",
    "    '/bph/puredata1/bioinfdata/user/phikie/Neural_network_results/model3_SMALL')"
   ]
  },
  {
   "cell_type": "code",
   "execution_count": null,
   "id": "dc3804d0",
   "metadata": {},
   "outputs": [],
   "source": [
    "Modelsaver(\n",
    "    model4,\n",
    "    '/bph/puredata1/bioinfdata/user/phikie/Neural_network_results/model4_SMALL')"
   ]
  },
  {
   "cell_type": "code",
   "execution_count": null,
   "id": "7e777e2e",
   "metadata": {},
   "outputs": [],
   "source": [
    "Modelsaver(\n",
    "    model5,\n",
    "    '/bph/puredata1/bioinfdata/user/phikie/Neural_network_results/model5_SMALL')"
   ]
  },
  {
   "cell_type": "code",
   "execution_count": null,
   "id": "b8b916dc",
   "metadata": {},
   "outputs": [],
   "source": [
    "Modelsaver(\n",
    "    model6,\n",
    "    '/bph/puredata1/bioinfdata/user/phikie/Neural_network_results/model6_SMALL')"
   ]
  },
  {
   "cell_type": "code",
   "execution_count": null,
   "id": "bf72bf76",
   "metadata": {},
   "outputs": [],
   "source": [
    "Modelsaver(\n",
    "    model7,\n",
    "    '/bph/puredata1/bioinfdata/user/phikie/Neural_network_results/model7_SMALL')"
   ]
  },
  {
   "cell_type": "code",
   "execution_count": null,
   "id": "7c653e24",
   "metadata": {},
   "outputs": [],
   "source": [
    "Modelsaver(\n",
    "    model8,\n",
    "    '/bph/puredata1/bioinfdata/user/phikie/Neural_network_results/model8_SMALL')"
   ]
  },
  {
   "cell_type": "code",
   "execution_count": null,
   "id": "02608a3e",
   "metadata": {},
   "outputs": [],
   "source": []
  },
  {
   "cell_type": "code",
   "execution_count": null,
   "id": "ba9362ca",
   "metadata": {},
   "outputs": [],
   "source": [
    "def Loss_plotter(history, n):\n",
    "    \n",
    "    %matplotlib inline\n",
    "    \n",
    "    plt.semilogy(history.epoch, history.history['loss'],\n",
    "                 color=colors[n], label='Train')\n",
    "    plt.semilogy(history.epoch, history.history['val_loss'],\n",
    "                color=colors[n+1], label='Val')\n",
    "    \n",
    "    plt.legend(loc=\"upper left\")\n",
    "    \n",
    "    plt.xlabel('Epoch')\n",
    "    plt.ylabel('loss')"
   ]
  },
  {
   "cell_type": "code",
   "execution_count": null,
   "id": "b53ce880",
   "metadata": {},
   "outputs": [],
   "source": [
    "Loss_plotter(model8_history, 0)"
   ]
  },
  {
   "cell_type": "code",
   "execution_count": null,
   "id": "7a8a4751",
   "metadata": {},
   "outputs": [],
   "source": [
    "model8_history.history['AUC'][4]"
   ]
  },
  {
   "cell_type": "code",
   "execution_count": null,
   "id": "bf30e898",
   "metadata": {},
   "outputs": [],
   "source": [
    "#Takes in a keras history and returns a datafram with the most interesting metrics of the last epoch\n",
    "\n",
    "def Tabler(hist):\n",
    "    \n",
    "    table = pd.DataFrame.from_dict(hist.history)\n",
    "    table2 = table.iloc[(table.shape[0]-1):table.shape[0]]\n",
    "    table3 = table2[['loss', 'accuracy', 'precision', 'recall', 'AUC', 'prc', 'val_loss', 'val_accuracy', 'val_precision', 'val_recall', 'val_AUC', 'val_prc']]\n",
    "    table3 = table3.reset_index(drop=True)\n",
    "    return(table3)\n",
    "    "
   ]
  },
  {
   "cell_type": "code",
   "execution_count": null,
   "id": "45aca971",
   "metadata": {},
   "outputs": [],
   "source": [
    "tabler_test = Tabler(model1_history)"
   ]
  },
  {
   "cell_type": "code",
   "execution_count": null,
   "id": "ffaeab97",
   "metadata": {},
   "outputs": [],
   "source": [
    "tabler_test"
   ]
  },
  {
   "cell_type": "code",
   "execution_count": null,
   "id": "2cd3a6a5",
   "metadata": {},
   "outputs": [],
   "source": [
    "model_hist_list = [model1_history,\n",
    "                  model2_history,\n",
    "                  model3_history,\n",
    "                  model4_history,\n",
    "                  model5_history,\n",
    "                  model6_history,\n",
    "                  model7_history,\n",
    "                  model8_history]"
   ]
  },
  {
   "cell_type": "code",
   "execution_count": null,
   "id": "d8caa079",
   "metadata": {},
   "outputs": [],
   "source": [
    "end_table = Tabler(model1_history)\n",
    "\n",
    "for i in range(len(model_hist_list)-1):\n",
    "    table_buffer = Tabler(model_hist_list[i+1])\n",
    "    end_table = end_table.append(table_buffer)\n",
    "end_table = end_table.reset_index(drop=True)"
   ]
  },
  {
   "cell_type": "code",
   "execution_count": null,
   "id": "676869eb",
   "metadata": {},
   "outputs": [],
   "source": [
    "end_table"
   ]
  },
  {
   "cell_type": "code",
   "execution_count": null,
   "id": "53ff5db8",
   "metadata": {},
   "outputs": [],
   "source": [
    "#NN_model = Sequential()\n",
    "#NN_model.add(Dense(512, input_dim=(train_signals.shape[1]), activation='relu'))\n",
    "#NN_model.add(Dense(256, activation='relu'))\n",
    "#NN_model.add(Dense(128, activation='relu'))\n",
    "#NN_model.add(Dense(64, activation='relu'))\n",
    "#NN_model.add(Dense(1, activation='sigmoid'))"
   ]
  },
  {
   "cell_type": "code",
   "execution_count": null,
   "id": "00c17a11",
   "metadata": {},
   "outputs": [],
   "source": [
    "#NN_model.fit(train_signals, train_classes, epochs=10, batch_size=32)"
   ]
  },
  {
   "cell_type": "code",
   "execution_count": null,
   "id": "6e021d1b",
   "metadata": {},
   "outputs": [],
   "source": [
    "#NN_model.save('/bph/puredata1/bioinfdata/user/phikie/Big_data_set_creation/Neural_networks/NN_1_B32_adam.h5')"
   ]
  },
  {
   "cell_type": "code",
   "execution_count": null,
   "id": "ac628c20",
   "metadata": {},
   "outputs": [],
   "source": [
    "#NN_model_load = keras.models.load_model(\"/bph/puredata1/bioinfdata/user/phikie/Big_data_set_creation/Neural_networks/NN_1_B32_adam.h5\")"
   ]
  },
  {
   "cell_type": "code",
   "execution_count": null,
   "id": "5753b1c0",
   "metadata": {},
   "outputs": [],
   "source": [
    "#val_pred = (NN_model_load.predict(val_signals) > 0.5).astype('int32')"
   ]
  },
  {
   "cell_type": "code",
   "execution_count": null,
   "id": "15f9bf7a",
   "metadata": {},
   "outputs": [],
   "source": [
    "#Confus_analyzer(val_classes, val_pred)"
   ]
  },
  {
   "cell_type": "code",
   "execution_count": null,
   "id": "2aa21a65",
   "metadata": {},
   "outputs": [],
   "source": [
    "#TN, FP, FN, TP = confusion_matrix(val_classes, val_pred).ravel()"
   ]
  },
  {
   "cell_type": "code",
   "execution_count": null,
   "id": "c0ced29f",
   "metadata": {},
   "outputs": [],
   "source": []
  },
  {
   "cell_type": "code",
   "execution_count": null,
   "id": "8760af72",
   "metadata": {},
   "outputs": [],
   "source": [
    "%matplotlib inline\n",
    "\n",
    "x = np.linspace(0, 69, 69)\n",
    "y = val_signals[100020]\n",
    "\n",
    "plt.plot(x, y, 'o', color='black');"
   ]
  },
  {
   "cell_type": "code",
   "execution_count": null,
   "id": "d8fedfbe",
   "metadata": {},
   "outputs": [],
   "source": []
  }
 ],
 "metadata": {
  "kernelspec": {
   "display_name": "Python 3",
   "language": "python",
   "name": "python3"
  },
  "language_info": {
   "codemirror_mode": {
    "name": "ipython",
    "version": 3
   },
   "file_extension": ".py",
   "mimetype": "text/x-python",
   "name": "python",
   "nbconvert_exporter": "python",
   "pygments_lexer": "ipython3",
   "version": "3.9.6"
  }
 },
 "nbformat": 4,
 "nbformat_minor": 5
}
